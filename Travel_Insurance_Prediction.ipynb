{
  "nbformat": 4,
  "nbformat_minor": 0,
  "metadata": {
    "colab": {
      "provenance": [],
      "toc_visible": true
    },
    "kernelspec": {
      "name": "python3",
      "display_name": "Python 3"
    },
    "language_info": {
      "name": "python"
    }
  },
  "cells": [
    {
      "cell_type": "markdown",
      "source": [
        "# Import "
      ],
      "metadata": {
        "id": "3uL5Bc9KQ1zc"
      }
    },
    {
      "cell_type": "code",
      "source": [
        "!pip install scikit-plot"
      ],
      "metadata": {
        "colab": {
          "base_uri": "https://localhost:8080/"
        },
        "id": "AbwuCLJQSWYz",
        "outputId": "3e0b1bff-2cb6-4381-e797-99f38d6c6143"
      },
      "execution_count": 244,
      "outputs": [
        {
          "output_type": "stream",
          "name": "stdout",
          "text": [
            "Looking in indexes: https://pypi.org/simple, https://us-python.pkg.dev/colab-wheels/public/simple/\n",
            "Requirement already satisfied: scikit-plot in /usr/local/lib/python3.8/dist-packages (0.3.7)\n",
            "Requirement already satisfied: scipy>=0.9 in /usr/local/lib/python3.8/dist-packages (from scikit-plot) (1.7.3)\n",
            "Requirement already satisfied: scikit-learn>=0.18 in /usr/local/lib/python3.8/dist-packages (from scikit-plot) (1.0.2)\n",
            "Requirement already satisfied: joblib>=0.10 in /usr/local/lib/python3.8/dist-packages (from scikit-plot) (1.2.0)\n",
            "Requirement already satisfied: matplotlib>=1.4.0 in /usr/local/lib/python3.8/dist-packages (from scikit-plot) (3.2.2)\n",
            "Requirement already satisfied: pyparsing!=2.0.4,!=2.1.2,!=2.1.6,>=2.0.1 in /usr/local/lib/python3.8/dist-packages (from matplotlib>=1.4.0->scikit-plot) (3.0.9)\n",
            "Requirement already satisfied: cycler>=0.10 in /usr/local/lib/python3.8/dist-packages (from matplotlib>=1.4.0->scikit-plot) (0.11.0)\n",
            "Requirement already satisfied: numpy>=1.11 in /usr/local/lib/python3.8/dist-packages (from matplotlib>=1.4.0->scikit-plot) (1.21.6)\n",
            "Requirement already satisfied: kiwisolver>=1.0.1 in /usr/local/lib/python3.8/dist-packages (from matplotlib>=1.4.0->scikit-plot) (1.4.4)\n",
            "Requirement already satisfied: python-dateutil>=2.1 in /usr/local/lib/python3.8/dist-packages (from matplotlib>=1.4.0->scikit-plot) (2.8.2)\n",
            "Requirement already satisfied: six>=1.5 in /usr/local/lib/python3.8/dist-packages (from python-dateutil>=2.1->matplotlib>=1.4.0->scikit-plot) (1.15.0)\n",
            "Requirement already satisfied: threadpoolctl>=2.0.0 in /usr/local/lib/python3.8/dist-packages (from scikit-learn>=0.18->scikit-plot) (3.1.0)\n"
          ]
        }
      ]
    },
    {
      "cell_type": "code",
      "source": [
        "# import library\n",
        "import pandas as pd\n",
        "import numpy as np\n",
        "import matplotlib.pyplot as plt\n",
        "import seaborn as sns\n",
        "\n",
        "from sklearn import metrics\n",
        "import scikitplot as skplt\n",
        "\n",
        "# data split\n",
        "from sklearn.model_selection import train_test_split\n",
        "\n",
        "# machine learning model\n",
        "from sklearn.neighbors import KNeighborsClassifier\n",
        "from sklearn.tree import DecisionTreeClassifier\n",
        "from sklearn.ensemble import RandomForestClassifier\n",
        "from sklearn.svm import SVC\n",
        "from xgboost import XGBClassifier"
      ],
      "metadata": {
        "id": "aeTdXIchQiDK"
      },
      "execution_count": 245,
      "outputs": []
    },
    {
      "cell_type": "code",
      "source": [
        "# Import dataset\n",
        "df = pd.read_csv('https://raw.githubusercontent.com/JoshuaVincentius/Travel-Insurance-Package-Prediction/main/TravelInsurancePrediction.csv')"
      ],
      "metadata": {
        "id": "ifvZFZBzQ9u_"
      },
      "execution_count": 246,
      "outputs": []
    },
    {
      "cell_type": "markdown",
      "source": [
        "# Data Profiling and Preprocessing"
      ],
      "metadata": {
        "id": "bsEcQeOiTGam"
      }
    },
    {
      "cell_type": "markdown",
      "source": [
        "## Data Profiling"
      ],
      "metadata": {
        "id": "RgnvEAIiSwaO"
      }
    },
    {
      "cell_type": "code",
      "source": [
        "# check all data\n",
        "df.head()"
      ],
      "metadata": {
        "id": "U5xgMASIS2pj",
        "colab": {
          "base_uri": "https://localhost:8080/",
          "height": 206
        },
        "outputId": "c9e966bb-cc11-4ad9-8527-64734a189693"
      },
      "execution_count": 247,
      "outputs": [
        {
          "output_type": "execute_result",
          "data": {
            "text/plain": [
              "   No  Age                EmploymentType GraduateOrNot  AnnualIncome  \\\n",
              "0   0   31             Government Sector           Yes        400000   \n",
              "1   1   31  Private Sector/Self Employed           Yes       1250000   \n",
              "2   2   34  Private Sector/Self Employed           Yes        500000   \n",
              "3   3   28  Private Sector/Self Employed           Yes        700000   \n",
              "4   4   28  Private Sector/Self Employed           Yes        700000   \n",
              "\n",
              "   FamilyMembers  ChronicDiseases FrequentFlyer EverTravelledAbroad  \\\n",
              "0              6                1            No                  No   \n",
              "1              7                0            No                  No   \n",
              "2              4                1            No                  No   \n",
              "3              3                1            No                  No   \n",
              "4              8                1           Yes                  No   \n",
              "\n",
              "   TravelInsurance  \n",
              "0                0  \n",
              "1                0  \n",
              "2                1  \n",
              "3                0  \n",
              "4                0  "
            ],
            "text/html": [
              "\n",
              "  <div id=\"df-b1064ab5-99fc-44cd-b93e-790cd37323b4\">\n",
              "    <div class=\"colab-df-container\">\n",
              "      <div>\n",
              "<style scoped>\n",
              "    .dataframe tbody tr th:only-of-type {\n",
              "        vertical-align: middle;\n",
              "    }\n",
              "\n",
              "    .dataframe tbody tr th {\n",
              "        vertical-align: top;\n",
              "    }\n",
              "\n",
              "    .dataframe thead th {\n",
              "        text-align: right;\n",
              "    }\n",
              "</style>\n",
              "<table border=\"1\" class=\"dataframe\">\n",
              "  <thead>\n",
              "    <tr style=\"text-align: right;\">\n",
              "      <th></th>\n",
              "      <th>No</th>\n",
              "      <th>Age</th>\n",
              "      <th>EmploymentType</th>\n",
              "      <th>GraduateOrNot</th>\n",
              "      <th>AnnualIncome</th>\n",
              "      <th>FamilyMembers</th>\n",
              "      <th>ChronicDiseases</th>\n",
              "      <th>FrequentFlyer</th>\n",
              "      <th>EverTravelledAbroad</th>\n",
              "      <th>TravelInsurance</th>\n",
              "    </tr>\n",
              "  </thead>\n",
              "  <tbody>\n",
              "    <tr>\n",
              "      <th>0</th>\n",
              "      <td>0</td>\n",
              "      <td>31</td>\n",
              "      <td>Government Sector</td>\n",
              "      <td>Yes</td>\n",
              "      <td>400000</td>\n",
              "      <td>6</td>\n",
              "      <td>1</td>\n",
              "      <td>No</td>\n",
              "      <td>No</td>\n",
              "      <td>0</td>\n",
              "    </tr>\n",
              "    <tr>\n",
              "      <th>1</th>\n",
              "      <td>1</td>\n",
              "      <td>31</td>\n",
              "      <td>Private Sector/Self Employed</td>\n",
              "      <td>Yes</td>\n",
              "      <td>1250000</td>\n",
              "      <td>7</td>\n",
              "      <td>0</td>\n",
              "      <td>No</td>\n",
              "      <td>No</td>\n",
              "      <td>0</td>\n",
              "    </tr>\n",
              "    <tr>\n",
              "      <th>2</th>\n",
              "      <td>2</td>\n",
              "      <td>34</td>\n",
              "      <td>Private Sector/Self Employed</td>\n",
              "      <td>Yes</td>\n",
              "      <td>500000</td>\n",
              "      <td>4</td>\n",
              "      <td>1</td>\n",
              "      <td>No</td>\n",
              "      <td>No</td>\n",
              "      <td>1</td>\n",
              "    </tr>\n",
              "    <tr>\n",
              "      <th>3</th>\n",
              "      <td>3</td>\n",
              "      <td>28</td>\n",
              "      <td>Private Sector/Self Employed</td>\n",
              "      <td>Yes</td>\n",
              "      <td>700000</td>\n",
              "      <td>3</td>\n",
              "      <td>1</td>\n",
              "      <td>No</td>\n",
              "      <td>No</td>\n",
              "      <td>0</td>\n",
              "    </tr>\n",
              "    <tr>\n",
              "      <th>4</th>\n",
              "      <td>4</td>\n",
              "      <td>28</td>\n",
              "      <td>Private Sector/Self Employed</td>\n",
              "      <td>Yes</td>\n",
              "      <td>700000</td>\n",
              "      <td>8</td>\n",
              "      <td>1</td>\n",
              "      <td>Yes</td>\n",
              "      <td>No</td>\n",
              "      <td>0</td>\n",
              "    </tr>\n",
              "  </tbody>\n",
              "</table>\n",
              "</div>\n",
              "      <button class=\"colab-df-convert\" onclick=\"convertToInteractive('df-b1064ab5-99fc-44cd-b93e-790cd37323b4')\"\n",
              "              title=\"Convert this dataframe to an interactive table.\"\n",
              "              style=\"display:none;\">\n",
              "        \n",
              "  <svg xmlns=\"http://www.w3.org/2000/svg\" height=\"24px\"viewBox=\"0 0 24 24\"\n",
              "       width=\"24px\">\n",
              "    <path d=\"M0 0h24v24H0V0z\" fill=\"none\"/>\n",
              "    <path d=\"M18.56 5.44l.94 2.06.94-2.06 2.06-.94-2.06-.94-.94-2.06-.94 2.06-2.06.94zm-11 1L8.5 8.5l.94-2.06 2.06-.94-2.06-.94L8.5 2.5l-.94 2.06-2.06.94zm10 10l.94 2.06.94-2.06 2.06-.94-2.06-.94-.94-2.06-.94 2.06-2.06.94z\"/><path d=\"M17.41 7.96l-1.37-1.37c-.4-.4-.92-.59-1.43-.59-.52 0-1.04.2-1.43.59L10.3 9.45l-7.72 7.72c-.78.78-.78 2.05 0 2.83L4 21.41c.39.39.9.59 1.41.59.51 0 1.02-.2 1.41-.59l7.78-7.78 2.81-2.81c.8-.78.8-2.07 0-2.86zM5.41 20L4 18.59l7.72-7.72 1.47 1.35L5.41 20z\"/>\n",
              "  </svg>\n",
              "      </button>\n",
              "      \n",
              "  <style>\n",
              "    .colab-df-container {\n",
              "      display:flex;\n",
              "      flex-wrap:wrap;\n",
              "      gap: 12px;\n",
              "    }\n",
              "\n",
              "    .colab-df-convert {\n",
              "      background-color: #E8F0FE;\n",
              "      border: none;\n",
              "      border-radius: 50%;\n",
              "      cursor: pointer;\n",
              "      display: none;\n",
              "      fill: #1967D2;\n",
              "      height: 32px;\n",
              "      padding: 0 0 0 0;\n",
              "      width: 32px;\n",
              "    }\n",
              "\n",
              "    .colab-df-convert:hover {\n",
              "      background-color: #E2EBFA;\n",
              "      box-shadow: 0px 1px 2px rgba(60, 64, 67, 0.3), 0px 1px 3px 1px rgba(60, 64, 67, 0.15);\n",
              "      fill: #174EA6;\n",
              "    }\n",
              "\n",
              "    [theme=dark] .colab-df-convert {\n",
              "      background-color: #3B4455;\n",
              "      fill: #D2E3FC;\n",
              "    }\n",
              "\n",
              "    [theme=dark] .colab-df-convert:hover {\n",
              "      background-color: #434B5C;\n",
              "      box-shadow: 0px 1px 3px 1px rgba(0, 0, 0, 0.15);\n",
              "      filter: drop-shadow(0px 1px 2px rgba(0, 0, 0, 0.3));\n",
              "      fill: #FFFFFF;\n",
              "    }\n",
              "  </style>\n",
              "\n",
              "      <script>\n",
              "        const buttonEl =\n",
              "          document.querySelector('#df-b1064ab5-99fc-44cd-b93e-790cd37323b4 button.colab-df-convert');\n",
              "        buttonEl.style.display =\n",
              "          google.colab.kernel.accessAllowed ? 'block' : 'none';\n",
              "\n",
              "        async function convertToInteractive(key) {\n",
              "          const element = document.querySelector('#df-b1064ab5-99fc-44cd-b93e-790cd37323b4');\n",
              "          const dataTable =\n",
              "            await google.colab.kernel.invokeFunction('convertToInteractive',\n",
              "                                                     [key], {});\n",
              "          if (!dataTable) return;\n",
              "\n",
              "          const docLinkHtml = 'Like what you see? Visit the ' +\n",
              "            '<a target=\"_blank\" href=https://colab.research.google.com/notebooks/data_table.ipynb>data table notebook</a>'\n",
              "            + ' to learn more about interactive tables.';\n",
              "          element.innerHTML = '';\n",
              "          dataTable['output_type'] = 'display_data';\n",
              "          await google.colab.output.renderOutput(dataTable, element);\n",
              "          const docLink = document.createElement('div');\n",
              "          docLink.innerHTML = docLinkHtml;\n",
              "          element.appendChild(docLink);\n",
              "        }\n",
              "      </script>\n",
              "    </div>\n",
              "  </div>\n",
              "  "
            ]
          },
          "metadata": {},
          "execution_count": 247
        }
      ]
    },
    {
      "cell_type": "code",
      "source": [
        "# check data types\n",
        "df.info()"
      ],
      "metadata": {
        "id": "vmH08gkDTAlQ",
        "colab": {
          "base_uri": "https://localhost:8080/"
        },
        "outputId": "e7a826da-f2ee-4a51-ba51-d19220dbe839"
      },
      "execution_count": 248,
      "outputs": [
        {
          "output_type": "stream",
          "name": "stdout",
          "text": [
            "<class 'pandas.core.frame.DataFrame'>\n",
            "RangeIndex: 1987 entries, 0 to 1986\n",
            "Data columns (total 10 columns):\n",
            " #   Column               Non-Null Count  Dtype \n",
            "---  ------               --------------  ----- \n",
            " 0   No                   1987 non-null   int64 \n",
            " 1   Age                  1987 non-null   int64 \n",
            " 2   EmploymentType       1987 non-null   object\n",
            " 3   GraduateOrNot        1987 non-null   object\n",
            " 4   AnnualIncome         1987 non-null   int64 \n",
            " 5   FamilyMembers        1987 non-null   int64 \n",
            " 6   ChronicDiseases      1987 non-null   int64 \n",
            " 7   FrequentFlyer        1987 non-null   object\n",
            " 8   EverTravelledAbroad  1987 non-null   object\n",
            " 9   TravelInsurance      1987 non-null   int64 \n",
            "dtypes: int64(6), object(4)\n",
            "memory usage: 155.4+ KB\n"
          ]
        }
      ]
    },
    {
      "cell_type": "code",
      "source": [
        "# check amount of age\n",
        "df.Age.value_counts()"
      ],
      "metadata": {
        "colab": {
          "base_uri": "https://localhost:8080/"
        },
        "id": "3WbFPlW8Srn7",
        "outputId": "57dab6af-c541-4d98-a0ff-7dc6947151bd"
      },
      "execution_count": 249,
      "outputs": [
        {
          "output_type": "execute_result",
          "data": {
            "text/plain": [
              "28    506\n",
              "34    266\n",
              "31    234\n",
              "29    192\n",
              "33    148\n",
              "26    148\n",
              "25    146\n",
              "27    131\n",
              "32     91\n",
              "30     65\n",
              "35     60\n",
              "Name: Age, dtype: int64"
            ]
          },
          "metadata": {},
          "execution_count": 249
        }
      ]
    },
    {
      "cell_type": "code",
      "source": [
        "# check amount of employment type\n",
        "df.EmploymentType.value_counts()"
      ],
      "metadata": {
        "colab": {
          "base_uri": "https://localhost:8080/"
        },
        "id": "JbYqPZHLTGBd",
        "outputId": "21ec55dc-192d-454c-9378-646d53d52ae3"
      },
      "execution_count": 250,
      "outputs": [
        {
          "output_type": "execute_result",
          "data": {
            "text/plain": [
              "Private Sector/Self Employed    1417\n",
              "Government Sector                570\n",
              "Name: EmploymentType, dtype: int64"
            ]
          },
          "metadata": {},
          "execution_count": 250
        }
      ]
    },
    {
      "cell_type": "code",
      "source": [
        "# check amount of graduation type\n",
        "df.GraduateOrNot.value_counts()"
      ],
      "metadata": {
        "colab": {
          "base_uri": "https://localhost:8080/"
        },
        "id": "tJaTIFwHUFVc",
        "outputId": "1c3fafc6-b2f3-4e14-999f-a4dbbb2d40f4"
      },
      "execution_count": 251,
      "outputs": [
        {
          "output_type": "execute_result",
          "data": {
            "text/plain": [
              "Yes    1692\n",
              "No      295\n",
              "Name: GraduateOrNot, dtype: int64"
            ]
          },
          "metadata": {},
          "execution_count": 251
        }
      ]
    },
    {
      "cell_type": "code",
      "source": [
        "# check amount of annual income\n",
        "df.AnnualIncome.value_counts()"
      ],
      "metadata": {
        "colab": {
          "base_uri": "https://localhost:8080/"
        },
        "id": "hQGaFPEeUS_I",
        "outputId": "0db391d3-63a6-4f2d-ed32-68f5c8f21fba"
      },
      "execution_count": 252,
      "outputs": [
        {
          "output_type": "execute_result",
          "data": {
            "text/plain": [
              "800000     153\n",
              "500000     143\n",
              "1400000    130\n",
              "1200000    112\n",
              "1100000    107\n",
              "600000      98\n",
              "700000      95\n",
              "1300000     91\n",
              "300000      88\n",
              "1500000     82\n",
              "1050000     82\n",
              "550000      81\n",
              "1150000     79\n",
              "900000      72\n",
              "1250000     71\n",
              "750000      65\n",
              "400000      65\n",
              "1000000     60\n",
              "350000      55\n",
              "850000      55\n",
              "1350000     43\n",
              "1700000     37\n",
              "1450000     31\n",
              "650000      30\n",
              "950000      21\n",
              "1750000     15\n",
              "450000      15\n",
              "1550000      5\n",
              "1800000      4\n",
              "1650000      2\n",
              "Name: AnnualIncome, dtype: int64"
            ]
          },
          "metadata": {},
          "execution_count": 252
        }
      ]
    },
    {
      "cell_type": "code",
      "source": [
        "# check amount of family members\n",
        "df.FamilyMembers.value_counts()"
      ],
      "metadata": {
        "colab": {
          "base_uri": "https://localhost:8080/"
        },
        "id": "n6UG3G1vUfjz",
        "outputId": "854475c1-c20f-4573-e802-a79336035588"
      },
      "execution_count": 253,
      "outputs": [
        {
          "output_type": "execute_result",
          "data": {
            "text/plain": [
              "4    505\n",
              "5    426\n",
              "3    377\n",
              "6    294\n",
              "7    178\n",
              "2     93\n",
              "8     59\n",
              "9     55\n",
              "Name: FamilyMembers, dtype: int64"
            ]
          },
          "metadata": {},
          "execution_count": 253
        }
      ]
    },
    {
      "cell_type": "code",
      "source": [
        "# check amount of chronic diseases\n",
        "df.ChronicDiseases.value_counts()"
      ],
      "metadata": {
        "colab": {
          "base_uri": "https://localhost:8080/"
        },
        "id": "OQ83_X6_Uq2T",
        "outputId": "b0675750-554c-4d14-9cb5-970eb725396e"
      },
      "execution_count": 254,
      "outputs": [
        {
          "output_type": "execute_result",
          "data": {
            "text/plain": [
              "0    1435\n",
              "1     552\n",
              "Name: ChronicDiseases, dtype: int64"
            ]
          },
          "metadata": {},
          "execution_count": 254
        }
      ]
    },
    {
      "cell_type": "code",
      "source": [
        "# check amount of frequent flyer\n",
        "df.FrequentFlyer.value_counts()"
      ],
      "metadata": {
        "colab": {
          "base_uri": "https://localhost:8080/"
        },
        "id": "_b6IIg9PVGY9",
        "outputId": "35d761e2-ddc8-4e27-e20b-0f7d28934203"
      },
      "execution_count": 255,
      "outputs": [
        {
          "output_type": "execute_result",
          "data": {
            "text/plain": [
              "No     1570\n",
              "Yes     417\n",
              "Name: FrequentFlyer, dtype: int64"
            ]
          },
          "metadata": {},
          "execution_count": 255
        }
      ]
    },
    {
      "cell_type": "code",
      "source": [
        "# check amount of travel abroad\n",
        "df.EverTravelledAbroad.value_counts()"
      ],
      "metadata": {
        "colab": {
          "base_uri": "https://localhost:8080/"
        },
        "id": "v-u3AzPKVdce",
        "outputId": "c044216e-2b2c-412f-b2a8-620dddf80a96"
      },
      "execution_count": 256,
      "outputs": [
        {
          "output_type": "execute_result",
          "data": {
            "text/plain": [
              "No     1607\n",
              "Yes     380\n",
              "Name: EverTravelledAbroad, dtype: int64"
            ]
          },
          "metadata": {},
          "execution_count": 256
        }
      ]
    },
    {
      "cell_type": "code",
      "source": [
        "# check amount of travel insurance\n",
        "df.TravelInsurance.value_counts()"
      ],
      "metadata": {
        "colab": {
          "base_uri": "https://localhost:8080/"
        },
        "id": "PGdp2tq5WIh3",
        "outputId": "cd9ba72f-27b6-431d-8fbf-f3bafb0b1d78"
      },
      "execution_count": 257,
      "outputs": [
        {
          "output_type": "execute_result",
          "data": {
            "text/plain": [
              "0    1277\n",
              "1     710\n",
              "Name: TravelInsurance, dtype: int64"
            ]
          },
          "metadata": {},
          "execution_count": 257
        }
      ]
    },
    {
      "cell_type": "markdown",
      "source": [
        "## Data Cleaning"
      ],
      "metadata": {
        "id": "2z0M3Gl9WdIi"
      }
    },
    {
      "cell_type": "code",
      "source": [
        "# check missing values\n",
        "df.isna().sum()"
      ],
      "metadata": {
        "colab": {
          "base_uri": "https://localhost:8080/"
        },
        "id": "PhhiySybW1U3",
        "outputId": "e6c5de19-dd23-4bb5-93ec-d38006b992f7"
      },
      "execution_count": 258,
      "outputs": [
        {
          "output_type": "execute_result",
          "data": {
            "text/plain": [
              "No                     0\n",
              "Age                    0\n",
              "EmploymentType         0\n",
              "GraduateOrNot          0\n",
              "AnnualIncome           0\n",
              "FamilyMembers          0\n",
              "ChronicDiseases        0\n",
              "FrequentFlyer          0\n",
              "EverTravelledAbroad    0\n",
              "TravelInsurance        0\n",
              "dtype: int64"
            ]
          },
          "metadata": {},
          "execution_count": 258
        }
      ]
    },
    {
      "cell_type": "markdown",
      "source": [
        "Data is clean and ready for further process"
      ],
      "metadata": {
        "id": "NH9ubZtEW61K"
      }
    },
    {
      "cell_type": "code",
      "source": [
        "# check duplicates\n",
        "df.duplicated().sum()"
      ],
      "metadata": {
        "colab": {
          "base_uri": "https://localhost:8080/"
        },
        "id": "lsHgtglOXr-C",
        "outputId": "2f2587a6-57b7-47f4-dd43-b3bff49f4ecc"
      },
      "execution_count": 259,
      "outputs": [
        {
          "output_type": "execute_result",
          "data": {
            "text/plain": [
              "0"
            ]
          },
          "metadata": {},
          "execution_count": 259
        }
      ]
    },
    {
      "cell_type": "markdown",
      "source": [
        "## Data Preprocessing"
      ],
      "metadata": {
        "id": "Stp-bgI6X8ju"
      }
    },
    {
      "cell_type": "code",
      "source": [
        "# drop unnecessary columns\n",
        "df.drop('No', axis = 1, inplace = True)\n",
        "\n",
        "# check data type\n",
        "df.head()"
      ],
      "metadata": {
        "colab": {
          "base_uri": "https://localhost:8080/",
          "height": 206
        },
        "id": "n7Ta1DVxX4tN",
        "outputId": "37863419-be5c-4ef6-99e5-d41dd7f87feb"
      },
      "execution_count": 260,
      "outputs": [
        {
          "output_type": "execute_result",
          "data": {
            "text/plain": [
              "   Age                EmploymentType GraduateOrNot  AnnualIncome  \\\n",
              "0   31             Government Sector           Yes        400000   \n",
              "1   31  Private Sector/Self Employed           Yes       1250000   \n",
              "2   34  Private Sector/Self Employed           Yes        500000   \n",
              "3   28  Private Sector/Self Employed           Yes        700000   \n",
              "4   28  Private Sector/Self Employed           Yes        700000   \n",
              "\n",
              "   FamilyMembers  ChronicDiseases FrequentFlyer EverTravelledAbroad  \\\n",
              "0              6                1            No                  No   \n",
              "1              7                0            No                  No   \n",
              "2              4                1            No                  No   \n",
              "3              3                1            No                  No   \n",
              "4              8                1           Yes                  No   \n",
              "\n",
              "   TravelInsurance  \n",
              "0                0  \n",
              "1                0  \n",
              "2                1  \n",
              "3                0  \n",
              "4                0  "
            ],
            "text/html": [
              "\n",
              "  <div id=\"df-7f45651b-eac4-4285-91d5-a51221d972e4\">\n",
              "    <div class=\"colab-df-container\">\n",
              "      <div>\n",
              "<style scoped>\n",
              "    .dataframe tbody tr th:only-of-type {\n",
              "        vertical-align: middle;\n",
              "    }\n",
              "\n",
              "    .dataframe tbody tr th {\n",
              "        vertical-align: top;\n",
              "    }\n",
              "\n",
              "    .dataframe thead th {\n",
              "        text-align: right;\n",
              "    }\n",
              "</style>\n",
              "<table border=\"1\" class=\"dataframe\">\n",
              "  <thead>\n",
              "    <tr style=\"text-align: right;\">\n",
              "      <th></th>\n",
              "      <th>Age</th>\n",
              "      <th>EmploymentType</th>\n",
              "      <th>GraduateOrNot</th>\n",
              "      <th>AnnualIncome</th>\n",
              "      <th>FamilyMembers</th>\n",
              "      <th>ChronicDiseases</th>\n",
              "      <th>FrequentFlyer</th>\n",
              "      <th>EverTravelledAbroad</th>\n",
              "      <th>TravelInsurance</th>\n",
              "    </tr>\n",
              "  </thead>\n",
              "  <tbody>\n",
              "    <tr>\n",
              "      <th>0</th>\n",
              "      <td>31</td>\n",
              "      <td>Government Sector</td>\n",
              "      <td>Yes</td>\n",
              "      <td>400000</td>\n",
              "      <td>6</td>\n",
              "      <td>1</td>\n",
              "      <td>No</td>\n",
              "      <td>No</td>\n",
              "      <td>0</td>\n",
              "    </tr>\n",
              "    <tr>\n",
              "      <th>1</th>\n",
              "      <td>31</td>\n",
              "      <td>Private Sector/Self Employed</td>\n",
              "      <td>Yes</td>\n",
              "      <td>1250000</td>\n",
              "      <td>7</td>\n",
              "      <td>0</td>\n",
              "      <td>No</td>\n",
              "      <td>No</td>\n",
              "      <td>0</td>\n",
              "    </tr>\n",
              "    <tr>\n",
              "      <th>2</th>\n",
              "      <td>34</td>\n",
              "      <td>Private Sector/Self Employed</td>\n",
              "      <td>Yes</td>\n",
              "      <td>500000</td>\n",
              "      <td>4</td>\n",
              "      <td>1</td>\n",
              "      <td>No</td>\n",
              "      <td>No</td>\n",
              "      <td>1</td>\n",
              "    </tr>\n",
              "    <tr>\n",
              "      <th>3</th>\n",
              "      <td>28</td>\n",
              "      <td>Private Sector/Self Employed</td>\n",
              "      <td>Yes</td>\n",
              "      <td>700000</td>\n",
              "      <td>3</td>\n",
              "      <td>1</td>\n",
              "      <td>No</td>\n",
              "      <td>No</td>\n",
              "      <td>0</td>\n",
              "    </tr>\n",
              "    <tr>\n",
              "      <th>4</th>\n",
              "      <td>28</td>\n",
              "      <td>Private Sector/Self Employed</td>\n",
              "      <td>Yes</td>\n",
              "      <td>700000</td>\n",
              "      <td>8</td>\n",
              "      <td>1</td>\n",
              "      <td>Yes</td>\n",
              "      <td>No</td>\n",
              "      <td>0</td>\n",
              "    </tr>\n",
              "  </tbody>\n",
              "</table>\n",
              "</div>\n",
              "      <button class=\"colab-df-convert\" onclick=\"convertToInteractive('df-7f45651b-eac4-4285-91d5-a51221d972e4')\"\n",
              "              title=\"Convert this dataframe to an interactive table.\"\n",
              "              style=\"display:none;\">\n",
              "        \n",
              "  <svg xmlns=\"http://www.w3.org/2000/svg\" height=\"24px\"viewBox=\"0 0 24 24\"\n",
              "       width=\"24px\">\n",
              "    <path d=\"M0 0h24v24H0V0z\" fill=\"none\"/>\n",
              "    <path d=\"M18.56 5.44l.94 2.06.94-2.06 2.06-.94-2.06-.94-.94-2.06-.94 2.06-2.06.94zm-11 1L8.5 8.5l.94-2.06 2.06-.94-2.06-.94L8.5 2.5l-.94 2.06-2.06.94zm10 10l.94 2.06.94-2.06 2.06-.94-2.06-.94-.94-2.06-.94 2.06-2.06.94z\"/><path d=\"M17.41 7.96l-1.37-1.37c-.4-.4-.92-.59-1.43-.59-.52 0-1.04.2-1.43.59L10.3 9.45l-7.72 7.72c-.78.78-.78 2.05 0 2.83L4 21.41c.39.39.9.59 1.41.59.51 0 1.02-.2 1.41-.59l7.78-7.78 2.81-2.81c.8-.78.8-2.07 0-2.86zM5.41 20L4 18.59l7.72-7.72 1.47 1.35L5.41 20z\"/>\n",
              "  </svg>\n",
              "      </button>\n",
              "      \n",
              "  <style>\n",
              "    .colab-df-container {\n",
              "      display:flex;\n",
              "      flex-wrap:wrap;\n",
              "      gap: 12px;\n",
              "    }\n",
              "\n",
              "    .colab-df-convert {\n",
              "      background-color: #E8F0FE;\n",
              "      border: none;\n",
              "      border-radius: 50%;\n",
              "      cursor: pointer;\n",
              "      display: none;\n",
              "      fill: #1967D2;\n",
              "      height: 32px;\n",
              "      padding: 0 0 0 0;\n",
              "      width: 32px;\n",
              "    }\n",
              "\n",
              "    .colab-df-convert:hover {\n",
              "      background-color: #E2EBFA;\n",
              "      box-shadow: 0px 1px 2px rgba(60, 64, 67, 0.3), 0px 1px 3px 1px rgba(60, 64, 67, 0.15);\n",
              "      fill: #174EA6;\n",
              "    }\n",
              "\n",
              "    [theme=dark] .colab-df-convert {\n",
              "      background-color: #3B4455;\n",
              "      fill: #D2E3FC;\n",
              "    }\n",
              "\n",
              "    [theme=dark] .colab-df-convert:hover {\n",
              "      background-color: #434B5C;\n",
              "      box-shadow: 0px 1px 3px 1px rgba(0, 0, 0, 0.15);\n",
              "      filter: drop-shadow(0px 1px 2px rgba(0, 0, 0, 0.3));\n",
              "      fill: #FFFFFF;\n",
              "    }\n",
              "  </style>\n",
              "\n",
              "      <script>\n",
              "        const buttonEl =\n",
              "          document.querySelector('#df-7f45651b-eac4-4285-91d5-a51221d972e4 button.colab-df-convert');\n",
              "        buttonEl.style.display =\n",
              "          google.colab.kernel.accessAllowed ? 'block' : 'none';\n",
              "\n",
              "        async function convertToInteractive(key) {\n",
              "          const element = document.querySelector('#df-7f45651b-eac4-4285-91d5-a51221d972e4');\n",
              "          const dataTable =\n",
              "            await google.colab.kernel.invokeFunction('convertToInteractive',\n",
              "                                                     [key], {});\n",
              "          if (!dataTable) return;\n",
              "\n",
              "          const docLinkHtml = 'Like what you see? Visit the ' +\n",
              "            '<a target=\"_blank\" href=https://colab.research.google.com/notebooks/data_table.ipynb>data table notebook</a>'\n",
              "            + ' to learn more about interactive tables.';\n",
              "          element.innerHTML = '';\n",
              "          dataTable['output_type'] = 'display_data';\n",
              "          await google.colab.output.renderOutput(dataTable, element);\n",
              "          const docLink = document.createElement('div');\n",
              "          docLink.innerHTML = docLinkHtml;\n",
              "          element.appendChild(docLink);\n",
              "        }\n",
              "      </script>\n",
              "    </div>\n",
              "  </div>\n",
              "  "
            ]
          },
          "metadata": {},
          "execution_count": 260
        }
      ]
    },
    {
      "cell_type": "markdown",
      "source": [
        "# EDA"
      ],
      "metadata": {
        "id": "lXFGV4ayZ3xa"
      }
    },
    {
      "cell_type": "code",
      "source": [
        "# check variable of travel insurance\n",
        "sns.countplot(data = df, x = 'TravelInsurance')"
      ],
      "metadata": {
        "colab": {
          "base_uri": "https://localhost:8080/",
          "height": 296
        },
        "id": "496LtmnDo9Tt",
        "outputId": "bdb8b2a4-64c3-45f7-e681-656423be8976"
      },
      "execution_count": 261,
      "outputs": [
        {
          "output_type": "execute_result",
          "data": {
            "text/plain": [
              "<matplotlib.axes._subplots.AxesSubplot at 0x7f8b96edd5e0>"
            ]
          },
          "metadata": {},
          "execution_count": 261
        },
        {
          "output_type": "display_data",
          "data": {
            "text/plain": [
              "<Figure size 432x288 with 1 Axes>"
            ],
            "image/png": "[encoded data removed]"
          },
          "metadata": {
            "needs_background": "light"
          }
        }
      ]
    },
    {
      "cell_type": "markdown",
      "source": [
        "There are less customers who buy the travel insurance package than those who don't buy."
      ],
      "metadata": {
        "id": "lEnBnIsquIcS"
      }
    },
    {
      "cell_type": "code",
      "source": [
        "# check variable of age\n",
        "sns.boxplot(data = df, x = 'TravelInsurance', y = 'Age')"
      ],
      "metadata": {
        "colab": {
          "base_uri": "https://localhost:8080/",
          "height": 296
        },
        "id": "h8nyJUTFrfHj",
        "outputId": "86b2beff-9150-4680-f0b9-4fa38ceb0218"
      },
      "execution_count": 262,
      "outputs": [
        {
          "output_type": "execute_result",
          "data": {
            "text/plain": [
              "<matplotlib.axes._subplots.AxesSubplot at 0x7f8b96933c70>"
            ]
          },
          "metadata": {},
          "execution_count": 262
        },
        {
          "output_type": "display_data",
          "data": {
            "text/plain": [
              "<Figure size 432x288 with 1 Axes>"
            ],
            "image/png": "[encoded data removed]"
          },
          "metadata": {
            "needs_background": "light"
          }
        }
      ]
    },
    {
      "cell_type": "markdown",
      "source": [
        "It seems that customers who buy the travel insurance are generally older than those who don't buy"
      ],
      "metadata": {
        "id": "lInUlqaetArD"
      }
    },
    {
      "cell_type": "code",
      "source": [
        "# check variable of employment type\n",
        "sns.countplot(data = df, x = 'EmploymentType', hue = 'TravelInsurance')"
      ],
      "metadata": {
        "colab": {
          "base_uri": "https://localhost:8080/",
          "height": 296
        },
        "id": "bR-7OezM2dD6",
        "outputId": "80b4dce3-601d-426a-b4ab-22aa32af36f4"
      },
      "execution_count": 263,
      "outputs": [
        {
          "output_type": "execute_result",
          "data": {
            "text/plain": [
              "<matplotlib.axes._subplots.AxesSubplot at 0x7f8b96910820>"
            ]
          },
          "metadata": {},
          "execution_count": 263
        },
        {
          "output_type": "display_data",
          "data": {
            "text/plain": [
              "<Figure size 432x288 with 1 Axes>"
            ],
            "image/png": "[encoded data removed]"
          },
          "metadata": {
            "needs_background": "light"
          }
        }
      ]
    },
    {
      "cell_type": "markdown",
      "source": [
        "It seems that mostly customers who buy travel insurance package are from private sector / self employed. The percentage of total customers from private sector/self employed who buy travel insurance package is higher than those from government sector."
      ],
      "metadata": {
        "id": "k2XClN0mILQB"
      }
    },
    {
      "cell_type": "code",
      "source": [
        "# check variable of graduate type\n",
        "sns.countplot(data = df, x = 'GraduateOrNot', hue = 'TravelInsurance')"
      ],
      "metadata": {
        "colab": {
          "base_uri": "https://localhost:8080/",
          "height": 296
        },
        "id": "U34Zuh0GAn57",
        "outputId": "e047422f-7eaf-4193-cc5d-0ed700c63696"
      },
      "execution_count": 264,
      "outputs": [
        {
          "output_type": "execute_result",
          "data": {
            "text/plain": [
              "<matplotlib.axes._subplots.AxesSubplot at 0x7f8b968f0c10>"
            ]
          },
          "metadata": {},
          "execution_count": 264
        },
        {
          "output_type": "display_data",
          "data": {
            "text/plain": [
              "<Figure size 432x288 with 1 Axes>"
            ],
            "image/png": "[encoded data removed]"
          },
          "metadata": {
            "needs_background": "light"
          }
        }
      ]
    },
    {
      "cell_type": "markdown",
      "source": [
        "Mostly customers who buy travel insurance package are graduated although there are also high numbers that don't buy the package even though they are graduated."
      ],
      "metadata": {
        "id": "AfsKmLLcJc9m"
      }
    },
    {
      "cell_type": "code",
      "source": [
        "# check variable of annual income\n",
        "sns.boxplot(data = df, x = 'TravelInsurance', y = 'AnnualIncome')"
      ],
      "metadata": {
        "colab": {
          "base_uri": "https://localhost:8080/",
          "height": 307
        },
        "id": "A0U_qNlJsB54",
        "outputId": "fb671806-d20d-44e6-b508-c545a22fe14b"
      },
      "execution_count": 265,
      "outputs": [
        {
          "output_type": "execute_result",
          "data": {
            "text/plain": [
              "<matplotlib.axes._subplots.AxesSubplot at 0x7f8b96841e80>"
            ]
          },
          "metadata": {},
          "execution_count": 265
        },
        {
          "output_type": "display_data",
          "data": {
            "text/plain": [
              "<Figure size 432x288 with 1 Axes>"
            ],
            "image/png": "[encoded data removed]"
          },
          "metadata": {
            "needs_background": "light"
          }
        }
      ]
    },
    {
      "cell_type": "markdown",
      "source": [
        "Customers who buy the travel insurance package tend to have higher annual income than those who don't buy"
      ],
      "metadata": {
        "id": "qJMQqytdtxJy"
      }
    },
    {
      "cell_type": "code",
      "source": [
        "# check variable of family members\n",
        "sns.boxplot(data = df, x = 'TravelInsurance', y = 'FamilyMembers')"
      ],
      "metadata": {
        "colab": {
          "base_uri": "https://localhost:8080/",
          "height": 296
        },
        "id": "x6IP3-bKsXNe",
        "outputId": "f8c167d6-5b1e-405f-9f45-197720e59580"
      },
      "execution_count": 266,
      "outputs": [
        {
          "output_type": "execute_result",
          "data": {
            "text/plain": [
              "<matplotlib.axes._subplots.AxesSubplot at 0x7f8b977fffa0>"
            ]
          },
          "metadata": {},
          "execution_count": 266
        },
        {
          "output_type": "display_data",
          "data": {
            "text/plain": [
              "<Figure size 432x288 with 1 Axes>"
            ],
            "image/png": "[encoded data removed]"
          },
          "metadata": {
            "needs_background": "light"
          }
        }
      ]
    },
    {
      "cell_type": "code",
      "source": [
        "# check variable of chronic diseases\n",
        "sns.countplot(data = df, x = 'ChronicDiseases', hue = 'TravelInsurance')"
      ],
      "metadata": {
        "colab": {
          "base_uri": "https://localhost:8080/",
          "height": 296
        },
        "id": "kmPug_hMsftW",
        "outputId": "afa1614d-46f8-40f4-fb5a-024d85cba03a"
      },
      "execution_count": 267,
      "outputs": [
        {
          "output_type": "execute_result",
          "data": {
            "text/plain": [
              "<matplotlib.axes._subplots.AxesSubplot at 0x7f8b96734d90>"
            ]
          },
          "metadata": {},
          "execution_count": 267
        },
        {
          "output_type": "display_data",
          "data": {
            "text/plain": [
              "<Figure size 432x288 with 1 Axes>"
            ],
            "image/png": "[encoded data removed]"
          },
          "metadata": {
            "needs_background": "light"
          }
        }
      ]
    },
    {
      "cell_type": "markdown",
      "source": [
        "The customers who book the flight mostly don't have chronic disease. The customers who buy the insurance package is mostly from the ones that don't have chronic disease too."
      ],
      "metadata": {
        "id": "C_Ty-hxyLH7z"
      }
    },
    {
      "cell_type": "code",
      "source": [
        "# check variable of frequent flyer\n",
        "sns.countplot(data = df, x = 'FrequentFlyer', hue = 'TravelInsurance')"
      ],
      "metadata": {
        "colab": {
          "base_uri": "https://localhost:8080/",
          "height": 296
        },
        "id": "CPsNUBU2GqTV",
        "outputId": "6d3ac577-f8ca-4822-b27d-261a68398189"
      },
      "execution_count": 268,
      "outputs": [
        {
          "output_type": "execute_result",
          "data": {
            "text/plain": [
              "<matplotlib.axes._subplots.AxesSubplot at 0x7f8b967098e0>"
            ]
          },
          "metadata": {},
          "execution_count": 268
        },
        {
          "output_type": "display_data",
          "data": {
            "text/plain": [
              "<Figure size 432x288 with 1 Axes>"
            ],
            "image/png": "[encoded data removed]"
          },
          "metadata": {
            "needs_background": "light"
          }
        }
      ]
    },
    {
      "cell_type": "markdown",
      "source": [
        "Most customers that book the flight is not frequent flyer. There is higher percentage that customers will buy travel insurance package if they are frequent flyer."
      ],
      "metadata": {
        "id": "dKCLSAcTL2qy"
      }
    },
    {
      "cell_type": "code",
      "source": [
        "# check variable of ever travelled abroad\n",
        "sns.countplot(data = df, x = 'EverTravelledAbroad', hue = 'TravelInsurance')"
      ],
      "metadata": {
        "colab": {
          "base_uri": "https://localhost:8080/",
          "height": 296
        },
        "id": "EWsYimTYGwEa",
        "outputId": "c215e5fe-0736-41dd-9bde-5e96c3b28063"
      },
      "execution_count": 269,
      "outputs": [
        {
          "output_type": "execute_result",
          "data": {
            "text/plain": [
              "<matplotlib.axes._subplots.AxesSubplot at 0x7f8b966e2bb0>"
            ]
          },
          "metadata": {},
          "execution_count": 269
        },
        {
          "output_type": "display_data",
          "data": {
            "text/plain": [
              "<Figure size 432x288 with 1 Axes>"
            ],
            "image/png": "[encoded data removed]"
          },
          "metadata": {
            "needs_background": "light"
          }
        }
      ]
    },
    {
      "cell_type": "markdown",
      "source": [
        "Most customers that book the flight have not travelled abroad. And there is higher percentage that customers will buy travel insurance package if they have travelled abroad."
      ],
      "metadata": {
        "id": "3mq1Bim9MVu3"
      }
    },
    {
      "cell_type": "code",
      "source": [
        "# heatmap for multicolinearity check\n",
        "plt.figure(figsize=(8,4))\n",
        "sns.heatmap(df.corr(method='spearman'), cmap = 'magma', annot = True)\n",
        "plt.title('Correlation Heatmap', fontsize = 14);"
      ],
      "metadata": {
        "colab": {
          "base_uri": "https://localhost:8080/",
          "height": 355
        },
        "id": "MUcBm31pZ6ha",
        "outputId": "efc59037-edba-4a69-fac8-3768fc704140"
      },
      "execution_count": 270,
      "outputs": [
        {
          "output_type": "display_data",
          "data": {
            "text/plain": [
              "<Figure size 576x288 with 2 Axes>"
            ],
            "image/png": "[encoded data removed]"
          },
          "metadata": {
            "needs_background": "light"
          }
        }
      ]
    },
    {
      "cell_type": "markdown",
      "source": [
        "As we can see from the graph above, there is no multicolinearity (high correlation) between the dependent variables. Therefore, it is safe to proceed to the next process."
      ],
      "metadata": {
        "id": "Q8KMbPYpMvKb"
      }
    },
    {
      "cell_type": "markdown",
      "source": [
        "# Modelling Preparation"
      ],
      "metadata": {
        "id": "CgO0rtJylQP1"
      }
    },
    {
      "cell_type": "markdown",
      "source": [
        "## Data Splitting"
      ],
      "metadata": {
        "id": "E5iRzL8QeOmF"
      }
    },
    {
      "cell_type": "code",
      "source": [
        "# Split Data\n",
        "X = df.drop(['TravelInsurance'], axis = 1)\n",
        "y = df['TravelInsurance']"
      ],
      "metadata": {
        "id": "elHw5YsznmCZ"
      },
      "execution_count": 271,
      "outputs": []
    },
    {
      "cell_type": "code",
      "source": [
        "# train test split\n",
        "X_train, X_test, y_train, y_test = train_test_split(X, y, test_size=0.2, stratify=y, random_state=1000)"
      ],
      "metadata": {
        "id": "vKAqJ6lJlTc0"
      },
      "execution_count": 272,
      "outputs": []
    },
    {
      "cell_type": "markdown",
      "source": [
        "## Data Checking"
      ],
      "metadata": {
        "id": "w-ImAzJkeXfu"
      }
    },
    {
      "cell_type": "code",
      "source": [
        "# data check\n",
        "y_train.value_counts().plot.bar()"
      ],
      "metadata": {
        "colab": {
          "base_uri": "https://localhost:8080/",
          "height": 279
        },
        "id": "2aMSOqiY_vd_",
        "outputId": "09e4646a-ae0c-47bb-da46-34baa3d1c881"
      },
      "execution_count": 273,
      "outputs": [
        {
          "output_type": "execute_result",
          "data": {
            "text/plain": [
              "<matplotlib.axes._subplots.AxesSubplot at 0x7f8b965e5b80>"
            ]
          },
          "metadata": {},
          "execution_count": 273
        },
        {
          "output_type": "display_data",
          "data": {
            "text/plain": [
              "<Figure size 432x288 with 1 Axes>"
            ],
            "image/png": "[encoded data removed]"
          },
          "metadata": {
            "needs_background": "light"
          }
        }
      ]
    },
    {
      "cell_type": "markdown",
      "source": [
        "The difference between customers who don't buy and buy travel insurance package is pretty significant and therefore it will cause imbalanced model. Several techniques can be done to handle the imbalanced model like using GMeans function, oversampling technique or undersampling technique."
      ],
      "metadata": {
        "id": "46NY1Ie-_5nC"
      }
    },
    {
      "cell_type": "code",
      "source": [
        "# generate dummy variables for the categorical variables\n",
        "X_train = pd.get_dummies(X_train, drop_first = True)\n",
        "X_test = pd.get_dummies(X_test, drop_first = True)"
      ],
      "metadata": {
        "id": "82ngtMLsebwC"
      },
      "execution_count": 274,
      "outputs": []
    },
    {
      "cell_type": "code",
      "source": [
        "# create dummy dataframe\n",
        "dummy = pd.concat([X_train, y_train],1)\n",
        "\n",
        "# heatmap for multicolinearity check\n",
        "plt.figure(figsize=(12,6))\n",
        "sns.heatmap(dummy.corr(method='spearman'), cmap = 'magma', annot = True)\n",
        "plt.title('Correlation Heatmap', fontsize = 14);"
      ],
      "metadata": {
        "colab": {
          "base_uri": "https://localhost:8080/",
          "height": 651
        },
        "id": "4kMh_1o9e4Mm",
        "outputId": "373ebcef-648b-4df9-ba73-28c53d318023"
      },
      "execution_count": 275,
      "outputs": [
        {
          "output_type": "stream",
          "name": "stderr",
          "text": [
            "<ipython-input-275-cf9dda2d283c>:2: FutureWarning: In a future version of pandas all arguments of concat except for the argument 'objs' will be keyword-only\n",
            "  dummy = pd.concat([X_train, y_train],1)\n"
          ]
        },
        {
          "output_type": "display_data",
          "data": {
            "text/plain": [
              "<Figure size 864x432 with 2 Axes>"
            ],
            "image/png": "[encoded data removed]"
          },
          "metadata": {
            "needs_background": "light"
          }
        }
      ]
    },
    {
      "cell_type": "markdown",
      "source": [
        "The multicolinearity check of dependent variables is complete as there is no indication of high correlation between the dependent variables."
      ],
      "metadata": {
        "id": "VUFLk5UKfWch"
      }
    },
    {
      "cell_type": "code",
      "source": [
        "# Find correlations with the travel insurance and sort\n",
        "correlations = dummy.corr()['TravelInsurance'].sort_values(ascending=False)\n",
        "\n",
        "# Display correlations\n",
        "print('Most Positive Correlations:\\n', correlations.tail(10))"
      ],
      "metadata": {
        "colab": {
          "base_uri": "https://localhost:8080/"
        },
        "id": "ooxanP64eGFJ",
        "outputId": "8cc88da7-6ee9-4623-96ea-41c55261853e"
      },
      "execution_count": 276,
      "outputs": [
        {
          "output_type": "stream",
          "name": "stdout",
          "text": [
            "Most Positive Correlations:\n",
            " TravelInsurance                                1.000000\n",
            "EverTravelledAbroad_Yes                        0.444667\n",
            "AnnualIncome                                   0.401708\n",
            "FrequentFlyer_Yes                              0.229778\n",
            "EmploymentType_Private Sector/Self Employed    0.148992\n",
            "FamilyMembers                                  0.077306\n",
            "Age                                            0.051786\n",
            "GraduateOrNot_Yes                              0.034649\n",
            "ChronicDiseases                                0.015722\n",
            "Name: TravelInsurance, dtype: float64\n"
          ]
        }
      ]
    },
    {
      "cell_type": "markdown",
      "source": [
        "It seems that the chances customers who ever travelled abroad will buy travel insurance package is the highest among the rest followed by annual income and frequent flyer."
      ],
      "metadata": {
        "id": "31LVKWsOe7Fp"
      }
    },
    {
      "cell_type": "markdown",
      "source": [
        "# Modelling"
      ],
      "metadata": {
        "id": "N6uCa2pp4rFi"
      }
    },
    {
      "cell_type": "markdown",
      "source": [
        "The model algorithms that we use in this classification modelling are KNN, Decision Tree, Random Forest and XGBoost Classifier."
      ],
      "metadata": {
        "id": "7w9TXkOQfq8K"
      }
    },
    {
      "cell_type": "markdown",
      "source": [
        "## KNN Classifier"
      ],
      "metadata": {
        "id": "ahbtlSg35UE3"
      }
    },
    {
      "cell_type": "code",
      "source": [
        "# define KNN model\n",
        "knn_model = KNeighborsClassifier(n_neighbors=5)\n",
        "\n",
        "# fit KNN model with train data\n",
        "knn_model.fit(X_train, y_train)"
      ],
      "metadata": {
        "colab": {
          "base_uri": "https://localhost:8080/"
        },
        "id": "M8-Puf6W4uzU",
        "outputId": "b4e4fa8b-2d93-4fec-ed8d-3796b81f37b0"
      },
      "execution_count": 277,
      "outputs": [
        {
          "output_type": "execute_result",
          "data": {
            "text/plain": [
              "KNeighborsClassifier()"
            ]
          },
          "metadata": {},
          "execution_count": 277
        }
      ]
    },
    {
      "cell_type": "code",
      "source": [
        "# generate hard result from KNN model using test data\n",
        "knn_result = knn_model.predict(X_test)\n",
        "\n",
        "# generate probability result from KNN model using test data\n",
        "knn_proba = knn_model.predict_proba(X_test)"
      ],
      "metadata": {
        "id": "9-kUHMdA6Xgd"
      },
      "execution_count": 278,
      "outputs": []
    },
    {
      "cell_type": "markdown",
      "source": [
        "## Decision Tree Classifier"
      ],
      "metadata": {
        "id": "Z-C8WdwD7G3i"
      }
    },
    {
      "cell_type": "code",
      "source": [
        "# define decision tree model\n",
        "dt_model = DecisionTreeClassifier(max_depth=5, random_state=1000)\n",
        "\n",
        "# fit decision tree model with train data\n",
        "dt_model.fit(X_train, y_train)"
      ],
      "metadata": {
        "id": "h86GkotA5zTm",
        "colab": {
          "base_uri": "https://localhost:8080/"
        },
        "outputId": "26c30756-d91b-470a-873c-565dcc0010e7"
      },
      "execution_count": 279,
      "outputs": [
        {
          "output_type": "execute_result",
          "data": {
            "text/plain": [
              "DecisionTreeClassifier(max_depth=5, random_state=1000)"
            ]
          },
          "metadata": {},
          "execution_count": 279
        }
      ]
    },
    {
      "cell_type": "code",
      "source": [
        "# generate hard result from decision tree model using test data\n",
        "dt_result = dt_model.predict(X_test)\n",
        "\n",
        "# generate probability result from decision tree model using test data\n",
        "dt_proba = dt_model.predict_proba(X_test)"
      ],
      "metadata": {
        "id": "9vkomaYCgjhY"
      },
      "execution_count": 280,
      "outputs": []
    },
    {
      "cell_type": "markdown",
      "source": [
        "## Random Forest Classifier"
      ],
      "metadata": {
        "id": "-_DZHi_SOHdK"
      }
    },
    {
      "cell_type": "code",
      "source": [
        "# define random forest model\n",
        "rf_model = RandomForestClassifier(n_estimators=500, max_depth=5, random_state=1000)\n",
        "\n",
        "# fit random forest model with train data\n",
        "rf_model.fit(X_train, y_train)"
      ],
      "metadata": {
        "colab": {
          "base_uri": "https://localhost:8080/"
        },
        "outputId": "2355c9ff-3e55-49b0-9f74-b386fff8093b",
        "id": "4fZBhNe6gvgG"
      },
      "execution_count": 281,
      "outputs": [
        {
          "output_type": "execute_result",
          "data": {
            "text/plain": [
              "RandomForestClassifier(max_depth=5, n_estimators=500, random_state=1000)"
            ]
          },
          "metadata": {},
          "execution_count": 281
        }
      ]
    },
    {
      "cell_type": "code",
      "source": [
        "# generate hard result from random forest model using test data\n",
        "rf_result = rf_model.predict(X_test)\n",
        "\n",
        "# generate probability result from random forest model using test data\n",
        "rf_proba = rf_model.predict_proba(X_test)"
      ],
      "metadata": {
        "id": "H5WVzuK0gvgI"
      },
      "execution_count": 282,
      "outputs": []
    },
    {
      "cell_type": "markdown",
      "source": [
        "## XGBoost Classifier"
      ],
      "metadata": {
        "id": "PwUVbZrSOM__"
      }
    },
    {
      "cell_type": "code",
      "source": [
        "# define XGBoost model\n",
        "xgb_model = XGBClassifier(n_estimators=500, max_depth=5, random_state=1000)\n",
        "\n",
        "# fit XGBoost model with train data\n",
        "xgb_model.fit(X_train, y_train)"
      ],
      "metadata": {
        "colab": {
          "base_uri": "https://localhost:8080/"
        },
        "outputId": "30480900-c7f5-41ed-d847-356ba6434134",
        "id": "-wztV2vBiwHD"
      },
      "execution_count": 283,
      "outputs": [
        {
          "output_type": "execute_result",
          "data": {
            "text/plain": [
              "XGBClassifier(max_depth=5, n_estimators=500, random_state=1000)"
            ]
          },
          "metadata": {},
          "execution_count": 283
        }
      ]
    },
    {
      "cell_type": "code",
      "source": [
        "# generate hard result from XGBoost model using test data\n",
        "xgb_result = xgb_model.predict(X_test)\n",
        "\n",
        "# generate probability result from XGBoost model using test data\n",
        "xgb_proba = xgb_model.predict_proba(X_test)"
      ],
      "metadata": {
        "id": "l95ALPZuiwHD"
      },
      "execution_count": 284,
      "outputs": []
    },
    {
      "cell_type": "markdown",
      "source": [
        "# Model Evaluation"
      ],
      "metadata": {
        "id": "k1MuGnS272dr"
      }
    },
    {
      "cell_type": "markdown",
      "source": [
        "## KNN Classifier"
      ],
      "metadata": {
        "id": "qv_-bGoT76ux"
      }
    },
    {
      "cell_type": "code",
      "source": [
        "# check confusion matrix using KNN model\n",
        "skplt.metrics.plot_confusion_matrix(y_test, knn_result, figsize=(5,5))"
      ],
      "metadata": {
        "colab": {
          "base_uri": "https://localhost:8080/",
          "height": 326
        },
        "id": "qsUOWOps79hc",
        "outputId": "9c813034-2b45-4bbf-c4ad-a77079bbd6eb"
      },
      "execution_count": 285,
      "outputs": [
        {
          "output_type": "execute_result",
          "data": {
            "text/plain": [
              "<matplotlib.axes._subplots.AxesSubplot at 0x7f8b96645f10>"
            ]
          },
          "metadata": {},
          "execution_count": 285
        },
        {
          "output_type": "display_data",
          "data": {
            "text/plain": [
              "<Figure size 360x360 with 2 Axes>"
            ],
            "image/png": "[encoded data removed]"
          },
          "metadata": {
            "needs_background": "light"
          }
        }
      ]
    },
    {
      "cell_type": "code",
      "source": [
        "# check classification report using KNN model\n",
        "pd.DataFrame(metrics.classification_report(y_test, knn_result, target_names = ['NotBuy', 'Buy'], output_dict=True))"
      ],
      "metadata": {
        "colab": {
          "base_uri": "https://localhost:8080/",
          "height": 175
        },
        "id": "gdIRgdBz8iO2",
        "outputId": "2cdee725-c481-4e8a-edc0-077349e0505e"
      },
      "execution_count": 286,
      "outputs": [
        {
          "output_type": "execute_result",
          "data": {
            "text/plain": [
              "               NotBuy         Buy  accuracy   macro avg  weighted avg\n",
              "precision    0.807560    0.803738  0.806533    0.805649      0.806197\n",
              "recall       0.917969    0.605634  0.806533    0.761801      0.806533\n",
              "f1-score     0.859232    0.690763  0.806533    0.774998      0.799125\n",
              "support    256.000000  142.000000  0.806533  398.000000    398.000000"
            ],
            "text/html": [
              "\n",
              "  <div id=\"df-28ce11bc-84e7-4a4b-8018-5c43c2a9ff88\">\n",
              "    <div class=\"colab-df-container\">\n",
              "      <div>\n",
              "<style scoped>\n",
              "    .dataframe tbody tr th:only-of-type {\n",
              "        vertical-align: middle;\n",
              "    }\n",
              "\n",
              "    .dataframe tbody tr th {\n",
              "        vertical-align: top;\n",
              "    }\n",
              "\n",
              "    .dataframe thead th {\n",
              "        text-align: right;\n",
              "    }\n",
              "</style>\n",
              "<table border=\"1\" class=\"dataframe\">\n",
              "  <thead>\n",
              "    <tr style=\"text-align: right;\">\n",
              "      <th></th>\n",
              "      <th>NotBuy</th>\n",
              "      <th>Buy</th>\n",
              "      <th>accuracy</th>\n",
              "      <th>macro avg</th>\n",
              "      <th>weighted avg</th>\n",
              "    </tr>\n",
              "  </thead>\n",
              "  <tbody>\n",
              "    <tr>\n",
              "      <th>precision</th>\n",
              "      <td>0.807560</td>\n",
              "      <td>0.803738</td>\n",
              "      <td>0.806533</td>\n",
              "      <td>0.805649</td>\n",
              "      <td>0.806197</td>\n",
              "    </tr>\n",
              "    <tr>\n",
              "      <th>recall</th>\n",
              "      <td>0.917969</td>\n",
              "      <td>0.605634</td>\n",
              "      <td>0.806533</td>\n",
              "      <td>0.761801</td>\n",
              "      <td>0.806533</td>\n",
              "    </tr>\n",
              "    <tr>\n",
              "      <th>f1-score</th>\n",
              "      <td>0.859232</td>\n",
              "      <td>0.690763</td>\n",
              "      <td>0.806533</td>\n",
              "      <td>0.774998</td>\n",
              "      <td>0.799125</td>\n",
              "    </tr>\n",
              "    <tr>\n",
              "      <th>support</th>\n",
              "      <td>256.000000</td>\n",
              "      <td>142.000000</td>\n",
              "      <td>0.806533</td>\n",
              "      <td>398.000000</td>\n",
              "      <td>398.000000</td>\n",
              "    </tr>\n",
              "  </tbody>\n",
              "</table>\n",
              "</div>\n",
              "      <button class=\"colab-df-convert\" onclick=\"convertToInteractive('df-28ce11bc-84e7-4a4b-8018-5c43c2a9ff88')\"\n",
              "              title=\"Convert this dataframe to an interactive table.\"\n",
              "              style=\"display:none;\">\n",
              "        \n",
              "  <svg xmlns=\"http://www.w3.org/2000/svg\" height=\"24px\"viewBox=\"0 0 24 24\"\n",
              "       width=\"24px\">\n",
              "    <path d=\"M0 0h24v24H0V0z\" fill=\"none\"/>\n",
              "    <path d=\"M18.56 5.44l.94 2.06.94-2.06 2.06-.94-2.06-.94-.94-2.06-.94 2.06-2.06.94zm-11 1L8.5 8.5l.94-2.06 2.06-.94-2.06-.94L8.5 2.5l-.94 2.06-2.06.94zm10 10l.94 2.06.94-2.06 2.06-.94-2.06-.94-.94-2.06-.94 2.06-2.06.94z\"/><path d=\"M17.41 7.96l-1.37-1.37c-.4-.4-.92-.59-1.43-.59-.52 0-1.04.2-1.43.59L10.3 9.45l-7.72 7.72c-.78.78-.78 2.05 0 2.83L4 21.41c.39.39.9.59 1.41.59.51 0 1.02-.2 1.41-.59l7.78-7.78 2.81-2.81c.8-.78.8-2.07 0-2.86zM5.41 20L4 18.59l7.72-7.72 1.47 1.35L5.41 20z\"/>\n",
              "  </svg>\n",
              "      </button>\n",
              "      \n",
              "  <style>\n",
              "    .colab-df-container {\n",
              "      display:flex;\n",
              "      flex-wrap:wrap;\n",
              "      gap: 12px;\n",
              "    }\n",
              "\n",
              "    .colab-df-convert {\n",
              "      background-color: #E8F0FE;\n",
              "      border: none;\n",
              "      border-radius: 50%;\n",
              "      cursor: pointer;\n",
              "      display: none;\n",
              "      fill: #1967D2;\n",
              "      height: 32px;\n",
              "      padding: 0 0 0 0;\n",
              "      width: 32px;\n",
              "    }\n",
              "\n",
              "    .colab-df-convert:hover {\n",
              "      background-color: #E2EBFA;\n",
              "      box-shadow: 0px 1px 2px rgba(60, 64, 67, 0.3), 0px 1px 3px 1px rgba(60, 64, 67, 0.15);\n",
              "      fill: #174EA6;\n",
              "    }\n",
              "\n",
              "    [theme=dark] .colab-df-convert {\n",
              "      background-color: #3B4455;\n",
              "      fill: #D2E3FC;\n",
              "    }\n",
              "\n",
              "    [theme=dark] .colab-df-convert:hover {\n",
              "      background-color: #434B5C;\n",
              "      box-shadow: 0px 1px 3px 1px rgba(0, 0, 0, 0.15);\n",
              "      filter: drop-shadow(0px 1px 2px rgba(0, 0, 0, 0.3));\n",
              "      fill: #FFFFFF;\n",
              "    }\n",
              "  </style>\n",
              "\n",
              "      <script>\n",
              "        const buttonEl =\n",
              "          document.querySelector('#df-28ce11bc-84e7-4a4b-8018-5c43c2a9ff88 button.colab-df-convert');\n",
              "        buttonEl.style.display =\n",
              "          google.colab.kernel.accessAllowed ? 'block' : 'none';\n",
              "\n",
              "        async function convertToInteractive(key) {\n",
              "          const element = document.querySelector('#df-28ce11bc-84e7-4a4b-8018-5c43c2a9ff88');\n",
              "          const dataTable =\n",
              "            await google.colab.kernel.invokeFunction('convertToInteractive',\n",
              "                                                     [key], {});\n",
              "          if (!dataTable) return;\n",
              "\n",
              "          const docLinkHtml = 'Like what you see? Visit the ' +\n",
              "            '<a target=\"_blank\" href=https://colab.research.google.com/notebooks/data_table.ipynb>data table notebook</a>'\n",
              "            + ' to learn more about interactive tables.';\n",
              "          element.innerHTML = '';\n",
              "          dataTable['output_type'] = 'display_data';\n",
              "          await google.colab.output.renderOutput(dataTable, element);\n",
              "          const docLink = document.createElement('div');\n",
              "          docLink.innerHTML = docLinkHtml;\n",
              "          element.appendChild(docLink);\n",
              "        }\n",
              "      </script>\n",
              "    </div>\n",
              "  </div>\n",
              "  "
            ]
          },
          "metadata": {},
          "execution_count": 286
        }
      ]
    },
    {
      "cell_type": "code",
      "source": [
        "# check ROC curve using KNN model\n",
        "skplt.metrics.plot_roc_curve(y_test, knn_proba, figsize=(5,5))"
      ],
      "metadata": {
        "id": "lSJX51s4jzU4",
        "colab": {
          "base_uri": "https://localhost:8080/",
          "height": 422
        },
        "outputId": "45ffb988-9857-4f9f-df7d-5737e2c093dc"
      },
      "execution_count": 287,
      "outputs": [
        {
          "output_type": "stream",
          "name": "stderr",
          "text": [
            "/usr/local/lib/python3.8/dist-packages/sklearn/utils/deprecation.py:87: FutureWarning: Function plot_roc_curve is deprecated; This will be removed in v0.5.0. Please use scikitplot.metrics.plot_roc instead.\n",
            "  warnings.warn(msg, category=FutureWarning)\n"
          ]
        },
        {
          "output_type": "execute_result",
          "data": {
            "text/plain": [
              "<matplotlib.axes._subplots.AxesSubplot at 0x7f8b966a8af0>"
            ]
          },
          "metadata": {},
          "execution_count": 287
        },
        {
          "output_type": "display_data",
          "data": {
            "text/plain": [
              "<Figure size 360x360 with 1 Axes>"
            ],
            "image/png": "[encoded data removed]"
          },
          "metadata": {
            "needs_background": "light"
          }
        }
      ]
    },
    {
      "cell_type": "markdown",
      "source": [
        "## Decision Tree Classifier"
      ],
      "metadata": {
        "id": "vF2ufG4rkKq0"
      }
    },
    {
      "cell_type": "code",
      "source": [
        "# check confusion matrix using decision tree model\n",
        "skplt.metrics.plot_confusion_matrix(y_test, dt_result, figsize=(5,5))"
      ],
      "metadata": {
        "colab": {
          "base_uri": "https://localhost:8080/",
          "height": 326
        },
        "outputId": "5463bbee-716d-49fa-ce5b-eec5aff213af",
        "id": "QxTbx9rFkZGp"
      },
      "execution_count": 288,
      "outputs": [
        {
          "output_type": "execute_result",
          "data": {
            "text/plain": [
              "<matplotlib.axes._subplots.AxesSubplot at 0x7f8b97516100>"
            ]
          },
          "metadata": {},
          "execution_count": 288
        },
        {
          "output_type": "display_data",
          "data": {
            "text/plain": [
              "<Figure size 360x360 with 2 Axes>"
            ],
            "image/png": "[encoded data removed]"
          },
          "metadata": {
            "needs_background": "light"
          }
        }
      ]
    },
    {
      "cell_type": "code",
      "source": [
        "# check classification report using decision tree model\n",
        "pd.DataFrame(metrics.classification_report(y_test, dt_result, target_names = ['NotBuy', 'Buy'], output_dict=True))"
      ],
      "metadata": {
        "colab": {
          "base_uri": "https://localhost:8080/",
          "height": 175
        },
        "outputId": "b5dde667-92e1-4023-cede-6eee2985ca4f",
        "id": "rl7xagdxkZGq"
      },
      "execution_count": 289,
      "outputs": [
        {
          "output_type": "execute_result",
          "data": {
            "text/plain": [
              "               NotBuy         Buy  accuracy   macro avg  weighted avg\n",
              "precision    0.803279    0.881720  0.821608    0.842500      0.831265\n",
              "recall       0.957031    0.577465  0.821608    0.767248      0.821608\n",
              "f1-score     0.873440    0.697872  0.821608    0.785656      0.810800\n",
              "support    256.000000  142.000000  0.821608  398.000000    398.000000"
            ],
            "text/html": [
              "\n",
              "  <div id=\"df-81fee10e-937f-4f6e-bdad-f5b6213b1a96\">\n",
              "    <div class=\"colab-df-container\">\n",
              "      <div>\n",
              "<style scoped>\n",
              "    .dataframe tbody tr th:only-of-type {\n",
              "        vertical-align: middle;\n",
              "    }\n",
              "\n",
              "    .dataframe tbody tr th {\n",
              "        vertical-align: top;\n",
              "    }\n",
              "\n",
              "    .dataframe thead th {\n",
              "        text-align: right;\n",
              "    }\n",
              "</style>\n",
              "<table border=\"1\" class=\"dataframe\">\n",
              "  <thead>\n",
              "    <tr style=\"text-align: right;\">\n",
              "      <th></th>\n",
              "      <th>NotBuy</th>\n",
              "      <th>Buy</th>\n",
              "      <th>accuracy</th>\n",
              "      <th>macro avg</th>\n",
              "      <th>weighted avg</th>\n",
              "    </tr>\n",
              "  </thead>\n",
              "  <tbody>\n",
              "    <tr>\n",
              "      <th>precision</th>\n",
              "      <td>0.803279</td>\n",
              "      <td>0.881720</td>\n",
              "      <td>0.821608</td>\n",
              "      <td>0.842500</td>\n",
              "      <td>0.831265</td>\n",
              "    </tr>\n",
              "    <tr>\n",
              "      <th>recall</th>\n",
              "      <td>0.957031</td>\n",
              "      <td>0.577465</td>\n",
              "      <td>0.821608</td>\n",
              "      <td>0.767248</td>\n",
              "      <td>0.821608</td>\n",
              "    </tr>\n",
              "    <tr>\n",
              "      <th>f1-score</th>\n",
              "      <td>0.873440</td>\n",
              "      <td>0.697872</td>\n",
              "      <td>0.821608</td>\n",
              "      <td>0.785656</td>\n",
              "      <td>0.810800</td>\n",
              "    </tr>\n",
              "    <tr>\n",
              "      <th>support</th>\n",
              "      <td>256.000000</td>\n",
              "      <td>142.000000</td>\n",
              "      <td>0.821608</td>\n",
              "      <td>398.000000</td>\n",
              "      <td>398.000000</td>\n",
              "    </tr>\n",
              "  </tbody>\n",
              "</table>\n",
              "</div>\n",
              "      <button class=\"colab-df-convert\" onclick=\"convertToInteractive('df-81fee10e-937f-4f6e-bdad-f5b6213b1a96')\"\n",
              "              title=\"Convert this dataframe to an interactive table.\"\n",
              "              style=\"display:none;\">\n",
              "        \n",
              "  <svg xmlns=\"http://www.w3.org/2000/svg\" height=\"24px\"viewBox=\"0 0 24 24\"\n",
              "       width=\"24px\">\n",
              "    <path d=\"M0 0h24v24H0V0z\" fill=\"none\"/>\n",
              "    <path d=\"M18.56 5.44l.94 2.06.94-2.06 2.06-.94-2.06-.94-.94-2.06-.94 2.06-2.06.94zm-11 1L8.5 8.5l.94-2.06 2.06-.94-2.06-.94L8.5 2.5l-.94 2.06-2.06.94zm10 10l.94 2.06.94-2.06 2.06-.94-2.06-.94-.94-2.06-.94 2.06-2.06.94z\"/><path d=\"M17.41 7.96l-1.37-1.37c-.4-.4-.92-.59-1.43-.59-.52 0-1.04.2-1.43.59L10.3 9.45l-7.72 7.72c-.78.78-.78 2.05 0 2.83L4 21.41c.39.39.9.59 1.41.59.51 0 1.02-.2 1.41-.59l7.78-7.78 2.81-2.81c.8-.78.8-2.07 0-2.86zM5.41 20L4 18.59l7.72-7.72 1.47 1.35L5.41 20z\"/>\n",
              "  </svg>\n",
              "      </button>\n",
              "      \n",
              "  <style>\n",
              "    .colab-df-container {\n",
              "      display:flex;\n",
              "      flex-wrap:wrap;\n",
              "      gap: 12px;\n",
              "    }\n",
              "\n",
              "    .colab-df-convert {\n",
              "      background-color: #E8F0FE;\n",
              "      border: none;\n",
              "      border-radius: 50%;\n",
              "      cursor: pointer;\n",
              "      display: none;\n",
              "      fill: #1967D2;\n",
              "      height: 32px;\n",
              "      padding: 0 0 0 0;\n",
              "      width: 32px;\n",
              "    }\n",
              "\n",
              "    .colab-df-convert:hover {\n",
              "      background-color: #E2EBFA;\n",
              "      box-shadow: 0px 1px 2px rgba(60, 64, 67, 0.3), 0px 1px 3px 1px rgba(60, 64, 67, 0.15);\n",
              "      fill: #174EA6;\n",
              "    }\n",
              "\n",
              "    [theme=dark] .colab-df-convert {\n",
              "      background-color: #3B4455;\n",
              "      fill: #D2E3FC;\n",
              "    }\n",
              "\n",
              "    [theme=dark] .colab-df-convert:hover {\n",
              "      background-color: #434B5C;\n",
              "      box-shadow: 0px 1px 3px 1px rgba(0, 0, 0, 0.15);\n",
              "      filter: drop-shadow(0px 1px 2px rgba(0, 0, 0, 0.3));\n",
              "      fill: #FFFFFF;\n",
              "    }\n",
              "  </style>\n",
              "\n",
              "      <script>\n",
              "        const buttonEl =\n",
              "          document.querySelector('#df-81fee10e-937f-4f6e-bdad-f5b6213b1a96 button.colab-df-convert');\n",
              "        buttonEl.style.display =\n",
              "          google.colab.kernel.accessAllowed ? 'block' : 'none';\n",
              "\n",
              "        async function convertToInteractive(key) {\n",
              "          const element = document.querySelector('#df-81fee10e-937f-4f6e-bdad-f5b6213b1a96');\n",
              "          const dataTable =\n",
              "            await google.colab.kernel.invokeFunction('convertToInteractive',\n",
              "                                                     [key], {});\n",
              "          if (!dataTable) return;\n",
              "\n",
              "          const docLinkHtml = 'Like what you see? Visit the ' +\n",
              "            '<a target=\"_blank\" href=https://colab.research.google.com/notebooks/data_table.ipynb>data table notebook</a>'\n",
              "            + ' to learn more about interactive tables.';\n",
              "          element.innerHTML = '';\n",
              "          dataTable['output_type'] = 'display_data';\n",
              "          await google.colab.output.renderOutput(dataTable, element);\n",
              "          const docLink = document.createElement('div');\n",
              "          docLink.innerHTML = docLinkHtml;\n",
              "          element.appendChild(docLink);\n",
              "        }\n",
              "      </script>\n",
              "    </div>\n",
              "  </div>\n",
              "  "
            ]
          },
          "metadata": {},
          "execution_count": 289
        }
      ]
    },
    {
      "cell_type": "code",
      "source": [
        "# check ROC curve using decision tree model\n",
        "skplt.metrics.plot_roc_curve(y_test, dt_proba, figsize=(5,5))"
      ],
      "metadata": {
        "id": "WnMdPafAkZGq",
        "colab": {
          "base_uri": "https://localhost:8080/",
          "height": 422
        },
        "outputId": "08c7e92b-f7ea-4252-c050-a5a852f347d2"
      },
      "execution_count": 290,
      "outputs": [
        {
          "output_type": "stream",
          "name": "stderr",
          "text": [
            "/usr/local/lib/python3.8/dist-packages/sklearn/utils/deprecation.py:87: FutureWarning: Function plot_roc_curve is deprecated; This will be removed in v0.5.0. Please use scikitplot.metrics.plot_roc instead.\n",
            "  warnings.warn(msg, category=FutureWarning)\n"
          ]
        },
        {
          "output_type": "execute_result",
          "data": {
            "text/plain": [
              "<matplotlib.axes._subplots.AxesSubplot at 0x7f8b974876d0>"
            ]
          },
          "metadata": {},
          "execution_count": 290
        },
        {
          "output_type": "display_data",
          "data": {
            "text/plain": [
              "<Figure size 360x360 with 1 Axes>"
            ],
            "image/png": "[encoded data removed]"
          },
          "metadata": {
            "needs_background": "light"
          }
        }
      ]
    },
    {
      "cell_type": "markdown",
      "source": [
        "## Random Forest Classifier"
      ],
      "metadata": {
        "id": "cDCwiT7OkNjX"
      }
    },
    {
      "cell_type": "code",
      "source": [
        "# check confusion matrix using random forest model\n",
        "skplt.metrics.plot_confusion_matrix(y_test, rf_result, figsize=(5,5))"
      ],
      "metadata": {
        "colab": {
          "base_uri": "https://localhost:8080/",
          "height": 330
        },
        "outputId": "6abf432c-7f33-4801-aa3c-fc5d43340f2a",
        "id": "dUKBvoAdka9K"
      },
      "execution_count": 291,
      "outputs": [
        {
          "output_type": "execute_result",
          "data": {
            "text/plain": [
              "<matplotlib.axes._subplots.AxesSubplot at 0x7f8b963b71f0>"
            ]
          },
          "metadata": {},
          "execution_count": 291
        },
        {
          "output_type": "display_data",
          "data": {
            "text/plain": [
              "<Figure size 360x360 with 2 Axes>"
            ],
            "image/png": "[encoded data removed]"
          },
          "metadata": {
            "needs_background": "light"
          }
        }
      ]
    },
    {
      "cell_type": "code",
      "source": [
        "# check classification report using random forest model\n",
        "pd.DataFrame(metrics.classification_report(y_test, rf_result, target_names = ['NotBuy', 'Buy'], output_dict=True))"
      ],
      "metadata": {
        "colab": {
          "base_uri": "https://localhost:8080/",
          "height": 175
        },
        "outputId": "1998e00c-2973-4d6f-d8e2-cc25c596105d",
        "id": "uxF9SHt2ka9L"
      },
      "execution_count": 292,
      "outputs": [
        {
          "output_type": "execute_result",
          "data": {
            "text/plain": [
              "               NotBuy         Buy  accuracy   macro avg  weighted avg\n",
              "precision    0.803859    0.931034  0.831658    0.867447      0.849233\n",
              "recall       0.976562    0.570423  0.831658    0.773493      0.831658\n",
              "f1-score     0.881834    0.707424  0.831658    0.794629      0.819607\n",
              "support    256.000000  142.000000  0.831658  398.000000    398.000000"
            ],
            "text/html": [
              "\n",
              "  <div id=\"df-9e478363-7e4e-4c64-ad9c-5d62d8ddaaa2\">\n",
              "    <div class=\"colab-df-container\">\n",
              "      <div>\n",
              "<style scoped>\n",
              "    .dataframe tbody tr th:only-of-type {\n",
              "        vertical-align: middle;\n",
              "    }\n",
              "\n",
              "    .dataframe tbody tr th {\n",
              "        vertical-align: top;\n",
              "    }\n",
              "\n",
              "    .dataframe thead th {\n",
              "        text-align: right;\n",
              "    }\n",
              "</style>\n",
              "<table border=\"1\" class=\"dataframe\">\n",
              "  <thead>\n",
              "    <tr style=\"text-align: right;\">\n",
              "      <th></th>\n",
              "      <th>NotBuy</th>\n",
              "      <th>Buy</th>\n",
              "      <th>accuracy</th>\n",
              "      <th>macro avg</th>\n",
              "      <th>weighted avg</th>\n",
              "    </tr>\n",
              "  </thead>\n",
              "  <tbody>\n",
              "    <tr>\n",
              "      <th>precision</th>\n",
              "      <td>0.803859</td>\n",
              "      <td>0.931034</td>\n",
              "      <td>0.831658</td>\n",
              "      <td>0.867447</td>\n",
              "      <td>0.849233</td>\n",
              "    </tr>\n",
              "    <tr>\n",
              "      <th>recall</th>\n",
              "      <td>0.976562</td>\n",
              "      <td>0.570423</td>\n",
              "      <td>0.831658</td>\n",
              "      <td>0.773493</td>\n",
              "      <td>0.831658</td>\n",
              "    </tr>\n",
              "    <tr>\n",
              "      <th>f1-score</th>\n",
              "      <td>0.881834</td>\n",
              "      <td>0.707424</td>\n",
              "      <td>0.831658</td>\n",
              "      <td>0.794629</td>\n",
              "      <td>0.819607</td>\n",
              "    </tr>\n",
              "    <tr>\n",
              "      <th>support</th>\n",
              "      <td>256.000000</td>\n",
              "      <td>142.000000</td>\n",
              "      <td>0.831658</td>\n",
              "      <td>398.000000</td>\n",
              "      <td>398.000000</td>\n",
              "    </tr>\n",
              "  </tbody>\n",
              "</table>\n",
              "</div>\n",
              "      <button class=\"colab-df-convert\" onclick=\"convertToInteractive('df-9e478363-7e4e-4c64-ad9c-5d62d8ddaaa2')\"\n",
              "              title=\"Convert this dataframe to an interactive table.\"\n",
              "              style=\"display:none;\">\n",
              "        \n",
              "  <svg xmlns=\"http://www.w3.org/2000/svg\" height=\"24px\"viewBox=\"0 0 24 24\"\n",
              "       width=\"24px\">\n",
              "    <path d=\"M0 0h24v24H0V0z\" fill=\"none\"/>\n",
              "    <path d=\"M18.56 5.44l.94 2.06.94-2.06 2.06-.94-2.06-.94-.94-2.06-.94 2.06-2.06.94zm-11 1L8.5 8.5l.94-2.06 2.06-.94-2.06-.94L8.5 2.5l-.94 2.06-2.06.94zm10 10l.94 2.06.94-2.06 2.06-.94-2.06-.94-.94-2.06-.94 2.06-2.06.94z\"/><path d=\"M17.41 7.96l-1.37-1.37c-.4-.4-.92-.59-1.43-.59-.52 0-1.04.2-1.43.59L10.3 9.45l-7.72 7.72c-.78.78-.78 2.05 0 2.83L4 21.41c.39.39.9.59 1.41.59.51 0 1.02-.2 1.41-.59l7.78-7.78 2.81-2.81c.8-.78.8-2.07 0-2.86zM5.41 20L4 18.59l7.72-7.72 1.47 1.35L5.41 20z\"/>\n",
              "  </svg>\n",
              "      </button>\n",
              "      \n",
              "  <style>\n",
              "    .colab-df-container {\n",
              "      display:flex;\n",
              "      flex-wrap:wrap;\n",
              "      gap: 12px;\n",
              "    }\n",
              "\n",
              "    .colab-df-convert {\n",
              "      background-color: #E8F0FE;\n",
              "      border: none;\n",
              "      border-radius: 50%;\n",
              "      cursor: pointer;\n",
              "      display: none;\n",
              "      fill: #1967D2;\n",
              "      height: 32px;\n",
              "      padding: 0 0 0 0;\n",
              "      width: 32px;\n",
              "    }\n",
              "\n",
              "    .colab-df-convert:hover {\n",
              "      background-color: #E2EBFA;\n",
              "      box-shadow: 0px 1px 2px rgba(60, 64, 67, 0.3), 0px 1px 3px 1px rgba(60, 64, 67, 0.15);\n",
              "      fill: #174EA6;\n",
              "    }\n",
              "\n",
              "    [theme=dark] .colab-df-convert {\n",
              "      background-color: #3B4455;\n",
              "      fill: #D2E3FC;\n",
              "    }\n",
              "\n",
              "    [theme=dark] .colab-df-convert:hover {\n",
              "      background-color: #434B5C;\n",
              "      box-shadow: 0px 1px 3px 1px rgba(0, 0, 0, 0.15);\n",
              "      filter: drop-shadow(0px 1px 2px rgba(0, 0, 0, 0.3));\n",
              "      fill: #FFFFFF;\n",
              "    }\n",
              "  </style>\n",
              "\n",
              "      <script>\n",
              "        const buttonEl =\n",
              "          document.querySelector('#df-9e478363-7e4e-4c64-ad9c-5d62d8ddaaa2 button.colab-df-convert');\n",
              "        buttonEl.style.display =\n",
              "          google.colab.kernel.accessAllowed ? 'block' : 'none';\n",
              "\n",
              "        async function convertToInteractive(key) {\n",
              "          const element = document.querySelector('#df-9e478363-7e4e-4c64-ad9c-5d62d8ddaaa2');\n",
              "          const dataTable =\n",
              "            await google.colab.kernel.invokeFunction('convertToInteractive',\n",
              "                                                     [key], {});\n",
              "          if (!dataTable) return;\n",
              "\n",
              "          const docLinkHtml = 'Like what you see? Visit the ' +\n",
              "            '<a target=\"_blank\" href=https://colab.research.google.com/notebooks/data_table.ipynb>data table notebook</a>'\n",
              "            + ' to learn more about interactive tables.';\n",
              "          element.innerHTML = '';\n",
              "          dataTable['output_type'] = 'display_data';\n",
              "          await google.colab.output.renderOutput(dataTable, element);\n",
              "          const docLink = document.createElement('div');\n",
              "          docLink.innerHTML = docLinkHtml;\n",
              "          element.appendChild(docLink);\n",
              "        }\n",
              "      </script>\n",
              "    </div>\n",
              "  </div>\n",
              "  "
            ]
          },
          "metadata": {},
          "execution_count": 292
        }
      ]
    },
    {
      "cell_type": "code",
      "source": [
        "# check ROC curve using random forest model\n",
        "skplt.metrics.plot_roc_curve(y_test, rf_proba, figsize=(5,5))"
      ],
      "metadata": {
        "id": "fR802sCfka9M",
        "colab": {
          "base_uri": "https://localhost:8080/",
          "height": 422
        },
        "outputId": "37954f39-ae45-4c94-9679-2abd23a3ed29"
      },
      "execution_count": 293,
      "outputs": [
        {
          "output_type": "stream",
          "name": "stderr",
          "text": [
            "/usr/local/lib/python3.8/dist-packages/sklearn/utils/deprecation.py:87: FutureWarning: Function plot_roc_curve is deprecated; This will be removed in v0.5.0. Please use scikitplot.metrics.plot_roc instead.\n",
            "  warnings.warn(msg, category=FutureWarning)\n"
          ]
        },
        {
          "output_type": "execute_result",
          "data": {
            "text/plain": [
              "<matplotlib.axes._subplots.AxesSubplot at 0x7f8b963abd60>"
            ]
          },
          "metadata": {},
          "execution_count": 293
        },
        {
          "output_type": "display_data",
          "data": {
            "text/plain": [
              "<Figure size 360x360 with 1 Axes>"
            ],
            "image/png": "[encoded data removed]"
          },
          "metadata": {
            "needs_background": "light"
          }
        }
      ]
    },
    {
      "cell_type": "markdown",
      "source": [
        "## XGBoost Classifier"
      ],
      "metadata": {
        "id": "0XBJXAVRkQW8"
      }
    },
    {
      "cell_type": "code",
      "source": [
        "# check confusion matrix using XGBoost model\n",
        "skplt.metrics.plot_confusion_matrix(y_test, xgb_result, figsize=(5,5))"
      ],
      "metadata": {
        "colab": {
          "base_uri": "https://localhost:8080/",
          "height": 326
        },
        "outputId": "b821c1f1-b387-4d4e-8b0e-d2466aec8da5",
        "id": "KxNAAfqzkcEm"
      },
      "execution_count": 294,
      "outputs": [
        {
          "output_type": "execute_result",
          "data": {
            "text/plain": [
              "<matplotlib.axes._subplots.AxesSubplot at 0x7f8b963208b0>"
            ]
          },
          "metadata": {},
          "execution_count": 294
        },
        {
          "output_type": "display_data",
          "data": {
            "text/plain": [
              "<Figure size 360x360 with 2 Axes>"
            ],
            "image/png": "[encoded data removed]"
          },
          "metadata": {
            "needs_background": "light"
          }
        }
      ]
    },
    {
      "cell_type": "code",
      "source": [
        "# check classification report using XGBoost model\n",
        "pd.DataFrame(metrics.classification_report(y_test, xgb_result, target_names = ['NotBuy', 'Buy'], output_dict=True))"
      ],
      "metadata": {
        "colab": {
          "base_uri": "https://localhost:8080/",
          "height": 175
        },
        "outputId": "a91c413b-e1d7-4d5c-a35c-4fef1e86a27a",
        "id": "RzZT_xYBkcEo"
      },
      "execution_count": 295,
      "outputs": [
        {
          "output_type": "execute_result",
          "data": {
            "text/plain": [
              "               NotBuy         Buy  accuracy   macro avg  weighted avg\n",
              "precision    0.810997    0.813084  0.811558    0.812040      0.811741\n",
              "recall       0.921875    0.612676  0.811558    0.767276      0.811558\n",
              "f1-score     0.862888    0.698795  0.811558    0.780842      0.804343\n",
              "support    256.000000  142.000000  0.811558  398.000000    398.000000"
            ],
            "text/html": [
              "\n",
              "  <div id=\"df-a74d7125-566e-40b0-ab9d-ac0242ce2371\">\n",
              "    <div class=\"colab-df-container\">\n",
              "      <div>\n",
              "<style scoped>\n",
              "    .dataframe tbody tr th:only-of-type {\n",
              "        vertical-align: middle;\n",
              "    }\n",
              "\n",
              "    .dataframe tbody tr th {\n",
              "        vertical-align: top;\n",
              "    }\n",
              "\n",
              "    .dataframe thead th {\n",
              "        text-align: right;\n",
              "    }\n",
              "</style>\n",
              "<table border=\"1\" class=\"dataframe\">\n",
              "  <thead>\n",
              "    <tr style=\"text-align: right;\">\n",
              "      <th></th>\n",
              "      <th>NotBuy</th>\n",
              "      <th>Buy</th>\n",
              "      <th>accuracy</th>\n",
              "      <th>macro avg</th>\n",
              "      <th>weighted avg</th>\n",
              "    </tr>\n",
              "  </thead>\n",
              "  <tbody>\n",
              "    <tr>\n",
              "      <th>precision</th>\n",
              "      <td>0.810997</td>\n",
              "      <td>0.813084</td>\n",
              "      <td>0.811558</td>\n",
              "      <td>0.812040</td>\n",
              "      <td>0.811741</td>\n",
              "    </tr>\n",
              "    <tr>\n",
              "      <th>recall</th>\n",
              "      <td>0.921875</td>\n",
              "      <td>0.612676</td>\n",
              "      <td>0.811558</td>\n",
              "      <td>0.767276</td>\n",
              "      <td>0.811558</td>\n",
              "    </tr>\n",
              "    <tr>\n",
              "      <th>f1-score</th>\n",
              "      <td>0.862888</td>\n",
              "      <td>0.698795</td>\n",
              "      <td>0.811558</td>\n",
              "      <td>0.780842</td>\n",
              "      <td>0.804343</td>\n",
              "    </tr>\n",
              "    <tr>\n",
              "      <th>support</th>\n",
              "      <td>256.000000</td>\n",
              "      <td>142.000000</td>\n",
              "      <td>0.811558</td>\n",
              "      <td>398.000000</td>\n",
              "      <td>398.000000</td>\n",
              "    </tr>\n",
              "  </tbody>\n",
              "</table>\n",
              "</div>\n",
              "      <button class=\"colab-df-convert\" onclick=\"convertToInteractive('df-a74d7125-566e-40b0-ab9d-ac0242ce2371')\"\n",
              "              title=\"Convert this dataframe to an interactive table.\"\n",
              "              style=\"display:none;\">\n",
              "        \n",
              "  <svg xmlns=\"http://www.w3.org/2000/svg\" height=\"24px\"viewBox=\"0 0 24 24\"\n",
              "       width=\"24px\">\n",
              "    <path d=\"M0 0h24v24H0V0z\" fill=\"none\"/>\n",
              "    <path d=\"M18.56 5.44l.94 2.06.94-2.06 2.06-.94-2.06-.94-.94-2.06-.94 2.06-2.06.94zm-11 1L8.5 8.5l.94-2.06 2.06-.94-2.06-.94L8.5 2.5l-.94 2.06-2.06.94zm10 10l.94 2.06.94-2.06 2.06-.94-2.06-.94-.94-2.06-.94 2.06-2.06.94z\"/><path d=\"M17.41 7.96l-1.37-1.37c-.4-.4-.92-.59-1.43-.59-.52 0-1.04.2-1.43.59L10.3 9.45l-7.72 7.72c-.78.78-.78 2.05 0 2.83L4 21.41c.39.39.9.59 1.41.59.51 0 1.02-.2 1.41-.59l7.78-7.78 2.81-2.81c.8-.78.8-2.07 0-2.86zM5.41 20L4 18.59l7.72-7.72 1.47 1.35L5.41 20z\"/>\n",
              "  </svg>\n",
              "      </button>\n",
              "      \n",
              "  <style>\n",
              "    .colab-df-container {\n",
              "      display:flex;\n",
              "      flex-wrap:wrap;\n",
              "      gap: 12px;\n",
              "    }\n",
              "\n",
              "    .colab-df-convert {\n",
              "      background-color: #E8F0FE;\n",
              "      border: none;\n",
              "      border-radius: 50%;\n",
              "      cursor: pointer;\n",
              "      display: none;\n",
              "      fill: #1967D2;\n",
              "      height: 32px;\n",
              "      padding: 0 0 0 0;\n",
              "      width: 32px;\n",
              "    }\n",
              "\n",
              "    .colab-df-convert:hover {\n",
              "      background-color: #E2EBFA;\n",
              "      box-shadow: 0px 1px 2px rgba(60, 64, 67, 0.3), 0px 1px 3px 1px rgba(60, 64, 67, 0.15);\n",
              "      fill: #174EA6;\n",
              "    }\n",
              "\n",
              "    [theme=dark] .colab-df-convert {\n",
              "      background-color: #3B4455;\n",
              "      fill: #D2E3FC;\n",
              "    }\n",
              "\n",
              "    [theme=dark] .colab-df-convert:hover {\n",
              "      background-color: #434B5C;\n",
              "      box-shadow: 0px 1px 3px 1px rgba(0, 0, 0, 0.15);\n",
              "      filter: drop-shadow(0px 1px 2px rgba(0, 0, 0, 0.3));\n",
              "      fill: #FFFFFF;\n",
              "    }\n",
              "  </style>\n",
              "\n",
              "      <script>\n",
              "        const buttonEl =\n",
              "          document.querySelector('#df-a74d7125-566e-40b0-ab9d-ac0242ce2371 button.colab-df-convert');\n",
              "        buttonEl.style.display =\n",
              "          google.colab.kernel.accessAllowed ? 'block' : 'none';\n",
              "\n",
              "        async function convertToInteractive(key) {\n",
              "          const element = document.querySelector('#df-a74d7125-566e-40b0-ab9d-ac0242ce2371');\n",
              "          const dataTable =\n",
              "            await google.colab.kernel.invokeFunction('convertToInteractive',\n",
              "                                                     [key], {});\n",
              "          if (!dataTable) return;\n",
              "\n",
              "          const docLinkHtml = 'Like what you see? Visit the ' +\n",
              "            '<a target=\"_blank\" href=https://colab.research.google.com/notebooks/data_table.ipynb>data table notebook</a>'\n",
              "            + ' to learn more about interactive tables.';\n",
              "          element.innerHTML = '';\n",
              "          dataTable['output_type'] = 'display_data';\n",
              "          await google.colab.output.renderOutput(dataTable, element);\n",
              "          const docLink = document.createElement('div');\n",
              "          docLink.innerHTML = docLinkHtml;\n",
              "          element.appendChild(docLink);\n",
              "        }\n",
              "      </script>\n",
              "    </div>\n",
              "  </div>\n",
              "  "
            ]
          },
          "metadata": {},
          "execution_count": 295
        }
      ]
    },
    {
      "cell_type": "code",
      "source": [
        "# check ROC curve using XGBoost model\n",
        "skplt.metrics.plot_roc_curve(y_test, xgb_proba, figsize=(5,5))"
      ],
      "metadata": {
        "id": "361SaoI1kcEo",
        "colab": {
          "base_uri": "https://localhost:8080/",
          "height": 422
        },
        "outputId": "30422bab-812e-4d0d-e97d-22fa8a102288"
      },
      "execution_count": 296,
      "outputs": [
        {
          "output_type": "stream",
          "name": "stderr",
          "text": [
            "/usr/local/lib/python3.8/dist-packages/sklearn/utils/deprecation.py:87: FutureWarning: Function plot_roc_curve is deprecated; This will be removed in v0.5.0. Please use scikitplot.metrics.plot_roc instead.\n",
            "  warnings.warn(msg, category=FutureWarning)\n"
          ]
        },
        {
          "output_type": "execute_result",
          "data": {
            "text/plain": [
              "<matplotlib.axes._subplots.AxesSubplot at 0x7f8b962a64c0>"
            ]
          },
          "metadata": {},
          "execution_count": 296
        },
        {
          "output_type": "display_data",
          "data": {
            "text/plain": [
              "<Figure size 360x360 with 1 Axes>"
            ],
            "image/png": "[encoded data removed]"
          },
          "metadata": {
            "needs_background": "light"
          }
        }
      ]
    },
    {
      "cell_type": "markdown",
      "source": [
        "# Model Interpretation"
      ],
      "metadata": {
        "id": "XiOH-b5Ovtbo"
      }
    },
    {
      "cell_type": "markdown",
      "source": [
        "After the model evaluation process, we will compare the performance of each model. \n",
        "- From confusion matrix, the best model is XGBoost with 87 true predicted followed by decision tree (82) and random forest (81).\n",
        "- From the classification report, the best model is random forest with f1 score on class 1 is about 70.7% followed by XGBoost (69.9%)and decision tree (69.8%).\n",
        "- From ROC, the best model is XGBoost and random forest with 81% ROC curve of class 1.\n",
        "\n",
        "Since XGBoost is one of the highest performers, we will use XGBoost as our model to predict customer who will buy the travel insurance package."
      ],
      "metadata": {
        "id": "tnuClFWBwfgi"
      }
    },
    {
      "cell_type": "markdown",
      "source": [
        "# Cross Validation and Hyperparameter Tuning"
      ],
      "metadata": {
        "id": "b_LyzQWYYmTW"
      }
    },
    {
      "cell_type": "markdown",
      "source": [
        "## Cross Validation"
      ],
      "metadata": {
        "id": "zHcDnrLva7WJ"
      }
    },
    {
      "cell_type": "code",
      "source": [
        "# import cross validation\n",
        "from sklearn.model_selection import cross_val_score"
      ],
      "metadata": {
        "id": "ha2e_uoLYtEt"
      },
      "execution_count": 297,
      "outputs": []
    },
    {
      "cell_type": "code",
      "source": [
        "# define XGBoost model\n",
        "xgb_model = XGBClassifier(n_estimators=500, max_depth=5, random_state=1000)"
      ],
      "metadata": {
        "id": "MKvA_3FxO50l"
      },
      "execution_count": 298,
      "outputs": []
    },
    {
      "cell_type": "code",
      "source": [
        "# testing model using K-fold cross validation\n",
        "cv = cross_val_score(\n",
        "    estimator = xgb_model,\n",
        "    X = X_train,\n",
        "    y = y_train,\n",
        "    cv = 10,\n",
        "    n_jobs = 1,\n",
        "    scoring = 'f1'\n",
        ")"
      ],
      "metadata": {
        "id": "QXsp88fzfKpg"
      },
      "execution_count": 299,
      "outputs": []
    },
    {
      "cell_type": "code",
      "source": [
        "# F1 score of each validation subset\n",
        "print('CV F1 score: %s' % cv)"
      ],
      "metadata": {
        "colab": {
          "base_uri": "https://localhost:8080/"
        },
        "id": "lkHkk9kShgtv",
        "outputId": "0163156e-8609-4931-9918-00fdd44e767e"
      },
      "execution_count": 300,
      "outputs": [
        {
          "output_type": "stream",
          "name": "stdout",
          "text": [
            "CV F1 score: [0.6875     0.68627451 0.6728972  0.69230769 0.69902913 0.6122449\n",
            " 0.70909091 0.69306931 0.74766355 0.69387755]\n"
          ]
        }
      ]
    },
    {
      "cell_type": "code",
      "source": [
        "# average of F1 score\n",
        "print('CV F1 score: %.3f +/- %.3f' % (np.mean(cv), np.std(cv)))"
      ],
      "metadata": {
        "colab": {
          "base_uri": "https://localhost:8080/"
        },
        "id": "YyuoA_ibiGH-",
        "outputId": "9602764b-0772-42c8-a9ff-982584ac9eb3"
      },
      "execution_count": 301,
      "outputs": [
        {
          "output_type": "stream",
          "name": "stdout",
          "text": [
            "CV F1 score: 0.689 +/- 0.032\n"
          ]
        }
      ]
    },
    {
      "cell_type": "markdown",
      "source": [
        "## Hyperparameter Tuning"
      ],
      "metadata": {
        "id": "naA0r5gXjKg6"
      }
    },
    {
      "cell_type": "code",
      "source": [
        "# define parameters for XGB model\n",
        "xgb_parameters = {\n",
        "    'max_depth': [2,3,5,6,10],\n",
        "    'n_estimators': [100,200,300,500,1000],\n",
        "    'min_child_weight':[1,2,3,5,6],\n",
        "    'booster': ['gbtree','gblinear']\n",
        "}"
      ],
      "metadata": {
        "id": "ydC8MGKNjOTu"
      },
      "execution_count": 302,
      "outputs": []
    },
    {
      "cell_type": "code",
      "source": [
        "# define XGB model\n",
        "xgb_model = XGBClassifier(random_state=1000)"
      ],
      "metadata": {
        "id": "KXH-UuhgpDR_"
      },
      "execution_count": 303,
      "outputs": []
    },
    {
      "cell_type": "code",
      "source": [
        "# import RandomizedSearchCV\n",
        "from sklearn.model_selection import RandomizedSearchCV"
      ],
      "metadata": {
        "id": "Q70IAQrjKwNh"
      },
      "execution_count": 304,
      "outputs": []
    },
    {
      "cell_type": "code",
      "source": [
        "# define model with RandomizedSearchCV\n",
        "random_search = RandomizedSearchCV(\n",
        "    estimator = xgb_model,\n",
        "    param_distributions = xgb_parameters,\n",
        "    n_jobs=1,\n",
        "    verbose=1,\n",
        "    random_state=1000,\n",
        "    n_iter=5,\n",
        "    cv=10,\n",
        "    scoring='f1'\n",
        ")\n",
        "\n",
        "random_search.fit(X_train, y_train)"
      ],
      "metadata": {
        "colab": {
          "base_uri": "https://localhost:8080/"
        },
        "id": "x0lxHLSCKfKB",
        "outputId": "57be01a2-2781-4911-a6d6-b3052da1ebd9"
      },
      "execution_count": 305,
      "outputs": [
        {
          "output_type": "stream",
          "name": "stdout",
          "text": [
            "Fitting 10 folds for each of 5 candidates, totalling 50 fits\n"
          ]
        },
        {
          "output_type": "execute_result",
          "data": {
            "text/plain": [
              "RandomizedSearchCV(cv=10, estimator=XGBClassifier(random_state=1000), n_iter=5,\n",
              "                   n_jobs=1,\n",
              "                   param_distributions={'booster': ['gbtree', 'gblinear'],\n",
              "                                        'max_depth': [2, 3, 5, 6, 10],\n",
              "                                        'min_child_weight': [1, 2, 3, 5, 6],\n",
              "                                        'n_estimators': [100, 200, 300, 500,\n",
              "                                                         1000]},\n",
              "                   random_state=1000, scoring='f1', verbose=1)"
            ]
          },
          "metadata": {},
          "execution_count": 305
        }
      ]
    },
    {
      "cell_type": "code",
      "source": [
        "# shape RandomizedSearchCV results to dataframe structure\n",
        "score_df = pd.DataFrame(random_search.cv_results_)\n",
        "score_df.head(3)"
      ],
      "metadata": {
        "outputId": "04755603-3920-405c-8a97-78735927b37c",
        "colab": {
          "base_uri": "https://localhost:8080/",
          "height": 393
        },
        "id": "sWDO1q6IRkg_"
      },
      "execution_count": 306,
      "outputs": [
        {
          "output_type": "execute_result",
          "data": {
            "text/plain": [
              "   mean_fit_time  std_fit_time  mean_score_time  std_score_time  \\\n",
              "0       1.418741      0.146284         0.018991        0.009321   \n",
              "1       0.154718      0.021998         0.007059        0.003626   \n",
              "2       0.111890      0.044362         0.002883        0.000560   \n",
              "\n",
              "  param_n_estimators param_min_child_weight param_max_depth param_booster  \\\n",
              "0               1000                      3               3        gbtree   \n",
              "1                200                      5               5      gblinear   \n",
              "2                200                      5               3      gblinear   \n",
              "\n",
              "                                              params  split0_test_score  ...  \\\n",
              "0  {'n_estimators': 1000, 'min_child_weight': 3, ...           0.723404  ...   \n",
              "1  {'n_estimators': 200, 'min_child_weight': 5, '...           0.611765  ...   \n",
              "2  {'n_estimators': 200, 'min_child_weight': 5, '...           0.611765  ...   \n",
              "\n",
              "   split3_test_score  split4_test_score  split5_test_score  split6_test_score  \\\n",
              "0           0.673267           0.742268           0.637363           0.757282   \n",
              "1           0.613636           0.581395           0.488372           0.606742   \n",
              "2           0.613636           0.581395           0.488372           0.606742   \n",
              "\n",
              "   split7_test_score  split8_test_score  split9_test_score  mean_test_score  \\\n",
              "0           0.707071           0.761905           0.688889         0.707667   \n",
              "1           0.568182           0.729167           0.564706         0.600534   \n",
              "2           0.568182           0.729167           0.564706         0.600534   \n",
              "\n",
              "   std_test_score  rank_test_score  \n",
              "0        0.038075                1  \n",
              "1        0.060992                4  \n",
              "2        0.060992                4  \n",
              "\n",
              "[3 rows x 22 columns]"
            ],
            "text/html": [
              "\n",
              "  <div id=\"df-3a9f8857-aa9b-4ab3-b0e8-c823d92366b0\">\n",
              "    <div class=\"colab-df-container\">\n",
              "      <div>\n",
              "<style scoped>\n",
              "    .dataframe tbody tr th:only-of-type {\n",
              "        vertical-align: middle;\n",
              "    }\n",
              "\n",
              "    .dataframe tbody tr th {\n",
              "        vertical-align: top;\n",
              "    }\n",
              "\n",
              "    .dataframe thead th {\n",
              "        text-align: right;\n",
              "    }\n",
              "</style>\n",
              "<table border=\"1\" class=\"dataframe\">\n",
              "  <thead>\n",
              "    <tr style=\"text-align: right;\">\n",
              "      <th></th>\n",
              "      <th>mean_fit_time</th>\n",
              "      <th>std_fit_time</th>\n",
              "      <th>mean_score_time</th>\n",
              "      <th>std_score_time</th>\n",
              "      <th>param_n_estimators</th>\n",
              "      <th>param_min_child_weight</th>\n",
              "      <th>param_max_depth</th>\n",
              "      <th>param_booster</th>\n",
              "      <th>params</th>\n",
              "      <th>split0_test_score</th>\n",
              "      <th>...</th>\n",
              "      <th>split3_test_score</th>\n",
              "      <th>split4_test_score</th>\n",
              "      <th>split5_test_score</th>\n",
              "      <th>split6_test_score</th>\n",
              "      <th>split7_test_score</th>\n",
              "      <th>split8_test_score</th>\n",
              "      <th>split9_test_score</th>\n",
              "      <th>mean_test_score</th>\n",
              "      <th>std_test_score</th>\n",
              "      <th>rank_test_score</th>\n",
              "    </tr>\n",
              "  </thead>\n",
              "  <tbody>\n",
              "    <tr>\n",
              "      <th>0</th>\n",
              "      <td>1.418741</td>\n",
              "      <td>0.146284</td>\n",
              "      <td>0.018991</td>\n",
              "      <td>0.009321</td>\n",
              "      <td>1000</td>\n",
              "      <td>3</td>\n",
              "      <td>3</td>\n",
              "      <td>gbtree</td>\n",
              "      <td>{'n_estimators': 1000, 'min_child_weight': 3, ...</td>\n",
              "      <td>0.723404</td>\n",
              "      <td>...</td>\n",
              "      <td>0.673267</td>\n",
              "      <td>0.742268</td>\n",
              "      <td>0.637363</td>\n",
              "      <td>0.757282</td>\n",
              "      <td>0.707071</td>\n",
              "      <td>0.761905</td>\n",
              "      <td>0.688889</td>\n",
              "      <td>0.707667</td>\n",
              "      <td>0.038075</td>\n",
              "      <td>1</td>\n",
              "    </tr>\n",
              "    <tr>\n",
              "      <th>1</th>\n",
              "      <td>0.154718</td>\n",
              "      <td>0.021998</td>\n",
              "      <td>0.007059</td>\n",
              "      <td>0.003626</td>\n",
              "      <td>200</td>\n",
              "      <td>5</td>\n",
              "      <td>5</td>\n",
              "      <td>gblinear</td>\n",
              "      <td>{'n_estimators': 200, 'min_child_weight': 5, '...</td>\n",
              "      <td>0.611765</td>\n",
              "      <td>...</td>\n",
              "      <td>0.613636</td>\n",
              "      <td>0.581395</td>\n",
              "      <td>0.488372</td>\n",
              "      <td>0.606742</td>\n",
              "      <td>0.568182</td>\n",
              "      <td>0.729167</td>\n",
              "      <td>0.564706</td>\n",
              "      <td>0.600534</td>\n",
              "      <td>0.060992</td>\n",
              "      <td>4</td>\n",
              "    </tr>\n",
              "    <tr>\n",
              "      <th>2</th>\n",
              "      <td>0.111890</td>\n",
              "      <td>0.044362</td>\n",
              "      <td>0.002883</td>\n",
              "      <td>0.000560</td>\n",
              "      <td>200</td>\n",
              "      <td>5</td>\n",
              "      <td>3</td>\n",
              "      <td>gblinear</td>\n",
              "      <td>{'n_estimators': 200, 'min_child_weight': 5, '...</td>\n",
              "      <td>0.611765</td>\n",
              "      <td>...</td>\n",
              "      <td>0.613636</td>\n",
              "      <td>0.581395</td>\n",
              "      <td>0.488372</td>\n",
              "      <td>0.606742</td>\n",
              "      <td>0.568182</td>\n",
              "      <td>0.729167</td>\n",
              "      <td>0.564706</td>\n",
              "      <td>0.600534</td>\n",
              "      <td>0.060992</td>\n",
              "      <td>4</td>\n",
              "    </tr>\n",
              "  </tbody>\n",
              "</table>\n",
              "<p>3 rows × 22 columns</p>\n",
              "</div>\n",
              "      <button class=\"colab-df-convert\" onclick=\"convertToInteractive('df-3a9f8857-aa9b-4ab3-b0e8-c823d92366b0')\"\n",
              "              title=\"Convert this dataframe to an interactive table.\"\n",
              "              style=\"display:none;\">\n",
              "        \n",
              "  <svg xmlns=\"http://www.w3.org/2000/svg\" height=\"24px\"viewBox=\"0 0 24 24\"\n",
              "       width=\"24px\">\n",
              "    <path d=\"M0 0h24v24H0V0z\" fill=\"none\"/>\n",
              "    <path d=\"M18.56 5.44l.94 2.06.94-2.06 2.06-.94-2.06-.94-.94-2.06-.94 2.06-2.06.94zm-11 1L8.5 8.5l.94-2.06 2.06-.94-2.06-.94L8.5 2.5l-.94 2.06-2.06.94zm10 10l.94 2.06.94-2.06 2.06-.94-2.06-.94-.94-2.06-.94 2.06-2.06.94z\"/><path d=\"M17.41 7.96l-1.37-1.37c-.4-.4-.92-.59-1.43-.59-.52 0-1.04.2-1.43.59L10.3 9.45l-7.72 7.72c-.78.78-.78 2.05 0 2.83L4 21.41c.39.39.9.59 1.41.59.51 0 1.02-.2 1.41-.59l7.78-7.78 2.81-2.81c.8-.78.8-2.07 0-2.86zM5.41 20L4 18.59l7.72-7.72 1.47 1.35L5.41 20z\"/>\n",
              "  </svg>\n",
              "      </button>\n",
              "      \n",
              "  <style>\n",
              "    .colab-df-container {\n",
              "      display:flex;\n",
              "      flex-wrap:wrap;\n",
              "      gap: 12px;\n",
              "    }\n",
              "\n",
              "    .colab-df-convert {\n",
              "      background-color: #E8F0FE;\n",
              "      border: none;\n",
              "      border-radius: 50%;\n",
              "      cursor: pointer;\n",
              "      display: none;\n",
              "      fill: #1967D2;\n",
              "      height: 32px;\n",
              "      padding: 0 0 0 0;\n",
              "      width: 32px;\n",
              "    }\n",
              "\n",
              "    .colab-df-convert:hover {\n",
              "      background-color: #E2EBFA;\n",
              "      box-shadow: 0px 1px 2px rgba(60, 64, 67, 0.3), 0px 1px 3px 1px rgba(60, 64, 67, 0.15);\n",
              "      fill: #174EA6;\n",
              "    }\n",
              "\n",
              "    [theme=dark] .colab-df-convert {\n",
              "      background-color: #3B4455;\n",
              "      fill: #D2E3FC;\n",
              "    }\n",
              "\n",
              "    [theme=dark] .colab-df-convert:hover {\n",
              "      background-color: #434B5C;\n",
              "      box-shadow: 0px 1px 3px 1px rgba(0, 0, 0, 0.15);\n",
              "      filter: drop-shadow(0px 1px 2px rgba(0, 0, 0, 0.3));\n",
              "      fill: #FFFFFF;\n",
              "    }\n",
              "  </style>\n",
              "\n",
              "      <script>\n",
              "        const buttonEl =\n",
              "          document.querySelector('#df-3a9f8857-aa9b-4ab3-b0e8-c823d92366b0 button.colab-df-convert');\n",
              "        buttonEl.style.display =\n",
              "          google.colab.kernel.accessAllowed ? 'block' : 'none';\n",
              "\n",
              "        async function convertToInteractive(key) {\n",
              "          const element = document.querySelector('#df-3a9f8857-aa9b-4ab3-b0e8-c823d92366b0');\n",
              "          const dataTable =\n",
              "            await google.colab.kernel.invokeFunction('convertToInteractive',\n",
              "                                                     [key], {});\n",
              "          if (!dataTable) return;\n",
              "\n",
              "          const docLinkHtml = 'Like what you see? Visit the ' +\n",
              "            '<a target=\"_blank\" href=https://colab.research.google.com/notebooks/data_table.ipynb>data table notebook</a>'\n",
              "            + ' to learn more about interactive tables.';\n",
              "          element.innerHTML = '';\n",
              "          dataTable['output_type'] = 'display_data';\n",
              "          await google.colab.output.renderOutput(dataTable, element);\n",
              "          const docLink = document.createElement('div');\n",
              "          docLink.innerHTML = docLinkHtml;\n",
              "          element.appendChild(docLink);\n",
              "        }\n",
              "      </script>\n",
              "    </div>\n",
              "  </div>\n",
              "  "
            ]
          },
          "metadata": {},
          "execution_count": 306
        }
      ]
    },
    {
      "cell_type": "code",
      "source": [
        "# best of five RandomizedSearchCV\n",
        "score_df.nlargest(5,'mean_test_score')"
      ],
      "metadata": {
        "colab": {
          "base_uri": "https://localhost:8080/",
          "height": 560
        },
        "outputId": "90bc0361-663e-48d7-8687-d3b1dce107c7",
        "id": "GDVuiOJmRkg_"
      },
      "execution_count": 307,
      "outputs": [
        {
          "output_type": "execute_result",
          "data": {
            "text/plain": [
              "   mean_fit_time  std_fit_time  mean_score_time  std_score_time  \\\n",
              "0       1.418741      0.146284         0.018991        0.009321   \n",
              "3       0.558559      0.010065         0.008029        0.000975   \n",
              "4       0.155151      0.004096         0.002351        0.000185   \n",
              "1       0.154718      0.021998         0.007059        0.003626   \n",
              "2       0.111890      0.044362         0.002883        0.000560   \n",
              "\n",
              "  param_n_estimators param_min_child_weight param_max_depth param_booster  \\\n",
              "0               1000                      3               3        gbtree   \n",
              "3                500                      2               6        gbtree   \n",
              "4                500                      5               6      gblinear   \n",
              "1                200                      5               5      gblinear   \n",
              "2                200                      5               3      gblinear   \n",
              "\n",
              "                                              params  split0_test_score  ...  \\\n",
              "0  {'n_estimators': 1000, 'min_child_weight': 3, ...           0.723404  ...   \n",
              "3  {'n_estimators': 500, 'min_child_weight': 2, '...           0.687500  ...   \n",
              "4  {'n_estimators': 500, 'min_child_weight': 5, '...           0.571429  ...   \n",
              "1  {'n_estimators': 200, 'min_child_weight': 5, '...           0.611765  ...   \n",
              "2  {'n_estimators': 200, 'min_child_weight': 5, '...           0.611765  ...   \n",
              "\n",
              "   split3_test_score  split4_test_score  split5_test_score  split6_test_score  \\\n",
              "0           0.673267           0.742268           0.637363           0.757282   \n",
              "3           0.705882           0.673077           0.589474           0.715596   \n",
              "4           0.604167           0.620000           0.540000           0.666667   \n",
              "1           0.613636           0.581395           0.488372           0.606742   \n",
              "2           0.613636           0.581395           0.488372           0.606742   \n",
              "\n",
              "   split7_test_score  split8_test_score  split9_test_score  mean_test_score  \\\n",
              "0           0.707071           0.761905           0.688889         0.707667   \n",
              "3           0.686275           0.780952           0.686869         0.689151   \n",
              "4           0.627451           0.740000           0.559140         0.610812   \n",
              "1           0.568182           0.729167           0.564706         0.600534   \n",
              "2           0.568182           0.729167           0.564706         0.600534   \n",
              "\n",
              "   std_test_score  rank_test_score  \n",
              "0        0.038075                1  \n",
              "3        0.044403                2  \n",
              "4        0.055687                3  \n",
              "1        0.060992                4  \n",
              "2        0.060992                4  \n",
              "\n",
              "[5 rows x 22 columns]"
            ],
            "text/html": [
              "\n",
              "  <div id=\"df-38d48b73-9f13-495c-a0d6-a5904d63ad0c\">\n",
              "    <div class=\"colab-df-container\">\n",
              "      <div>\n",
              "<style scoped>\n",
              "    .dataframe tbody tr th:only-of-type {\n",
              "        vertical-align: middle;\n",
              "    }\n",
              "\n",
              "    .dataframe tbody tr th {\n",
              "        vertical-align: top;\n",
              "    }\n",
              "\n",
              "    .dataframe thead th {\n",
              "        text-align: right;\n",
              "    }\n",
              "</style>\n",
              "<table border=\"1\" class=\"dataframe\">\n",
              "  <thead>\n",
              "    <tr style=\"text-align: right;\">\n",
              "      <th></th>\n",
              "      <th>mean_fit_time</th>\n",
              "      <th>std_fit_time</th>\n",
              "      <th>mean_score_time</th>\n",
              "      <th>std_score_time</th>\n",
              "      <th>param_n_estimators</th>\n",
              "      <th>param_min_child_weight</th>\n",
              "      <th>param_max_depth</th>\n",
              "      <th>param_booster</th>\n",
              "      <th>params</th>\n",
              "      <th>split0_test_score</th>\n",
              "      <th>...</th>\n",
              "      <th>split3_test_score</th>\n",
              "      <th>split4_test_score</th>\n",
              "      <th>split5_test_score</th>\n",
              "      <th>split6_test_score</th>\n",
              "      <th>split7_test_score</th>\n",
              "      <th>split8_test_score</th>\n",
              "      <th>split9_test_score</th>\n",
              "      <th>mean_test_score</th>\n",
              "      <th>std_test_score</th>\n",
              "      <th>rank_test_score</th>\n",
              "    </tr>\n",
              "  </thead>\n",
              "  <tbody>\n",
              "    <tr>\n",
              "      <th>0</th>\n",
              "      <td>1.418741</td>\n",
              "      <td>0.146284</td>\n",
              "      <td>0.018991</td>\n",
              "      <td>0.009321</td>\n",
              "      <td>1000</td>\n",
              "      <td>3</td>\n",
              "      <td>3</td>\n",
              "      <td>gbtree</td>\n",
              "      <td>{'n_estimators': 1000, 'min_child_weight': 3, ...</td>\n",
              "      <td>0.723404</td>\n",
              "      <td>...</td>\n",
              "      <td>0.673267</td>\n",
              "      <td>0.742268</td>\n",
              "      <td>0.637363</td>\n",
              "      <td>0.757282</td>\n",
              "      <td>0.707071</td>\n",
              "      <td>0.761905</td>\n",
              "      <td>0.688889</td>\n",
              "      <td>0.707667</td>\n",
              "      <td>0.038075</td>\n",
              "      <td>1</td>\n",
              "    </tr>\n",
              "    <tr>\n",
              "      <th>3</th>\n",
              "      <td>0.558559</td>\n",
              "      <td>0.010065</td>\n",
              "      <td>0.008029</td>\n",
              "      <td>0.000975</td>\n",
              "      <td>500</td>\n",
              "      <td>2</td>\n",
              "      <td>6</td>\n",
              "      <td>gbtree</td>\n",
              "      <td>{'n_estimators': 500, 'min_child_weight': 2, '...</td>\n",
              "      <td>0.687500</td>\n",
              "      <td>...</td>\n",
              "      <td>0.705882</td>\n",
              "      <td>0.673077</td>\n",
              "      <td>0.589474</td>\n",
              "      <td>0.715596</td>\n",
              "      <td>0.686275</td>\n",
              "      <td>0.780952</td>\n",
              "      <td>0.686869</td>\n",
              "      <td>0.689151</td>\n",
              "      <td>0.044403</td>\n",
              "      <td>2</td>\n",
              "    </tr>\n",
              "    <tr>\n",
              "      <th>4</th>\n",
              "      <td>0.155151</td>\n",
              "      <td>0.004096</td>\n",
              "      <td>0.002351</td>\n",
              "      <td>0.000185</td>\n",
              "      <td>500</td>\n",
              "      <td>5</td>\n",
              "      <td>6</td>\n",
              "      <td>gblinear</td>\n",
              "      <td>{'n_estimators': 500, 'min_child_weight': 5, '...</td>\n",
              "      <td>0.571429</td>\n",
              "      <td>...</td>\n",
              "      <td>0.604167</td>\n",
              "      <td>0.620000</td>\n",
              "      <td>0.540000</td>\n",
              "      <td>0.666667</td>\n",
              "      <td>0.627451</td>\n",
              "      <td>0.740000</td>\n",
              "      <td>0.559140</td>\n",
              "      <td>0.610812</td>\n",
              "      <td>0.055687</td>\n",
              "      <td>3</td>\n",
              "    </tr>\n",
              "    <tr>\n",
              "      <th>1</th>\n",
              "      <td>0.154718</td>\n",
              "      <td>0.021998</td>\n",
              "      <td>0.007059</td>\n",
              "      <td>0.003626</td>\n",
              "      <td>200</td>\n",
              "      <td>5</td>\n",
              "      <td>5</td>\n",
              "      <td>gblinear</td>\n",
              "      <td>{'n_estimators': 200, 'min_child_weight': 5, '...</td>\n",
              "      <td>0.611765</td>\n",
              "      <td>...</td>\n",
              "      <td>0.613636</td>\n",
              "      <td>0.581395</td>\n",
              "      <td>0.488372</td>\n",
              "      <td>0.606742</td>\n",
              "      <td>0.568182</td>\n",
              "      <td>0.729167</td>\n",
              "      <td>0.564706</td>\n",
              "      <td>0.600534</td>\n",
              "      <td>0.060992</td>\n",
              "      <td>4</td>\n",
              "    </tr>\n",
              "    <tr>\n",
              "      <th>2</th>\n",
              "      <td>0.111890</td>\n",
              "      <td>0.044362</td>\n",
              "      <td>0.002883</td>\n",
              "      <td>0.000560</td>\n",
              "      <td>200</td>\n",
              "      <td>5</td>\n",
              "      <td>3</td>\n",
              "      <td>gblinear</td>\n",
              "      <td>{'n_estimators': 200, 'min_child_weight': 5, '...</td>\n",
              "      <td>0.611765</td>\n",
              "      <td>...</td>\n",
              "      <td>0.613636</td>\n",
              "      <td>0.581395</td>\n",
              "      <td>0.488372</td>\n",
              "      <td>0.606742</td>\n",
              "      <td>0.568182</td>\n",
              "      <td>0.729167</td>\n",
              "      <td>0.564706</td>\n",
              "      <td>0.600534</td>\n",
              "      <td>0.060992</td>\n",
              "      <td>4</td>\n",
              "    </tr>\n",
              "  </tbody>\n",
              "</table>\n",
              "<p>5 rows × 22 columns</p>\n",
              "</div>\n",
              "      <button class=\"colab-df-convert\" onclick=\"convertToInteractive('df-38d48b73-9f13-495c-a0d6-a5904d63ad0c')\"\n",
              "              title=\"Convert this dataframe to an interactive table.\"\n",
              "              style=\"display:none;\">\n",
              "        \n",
              "  <svg xmlns=\"http://www.w3.org/2000/svg\" height=\"24px\"viewBox=\"0 0 24 24\"\n",
              "       width=\"24px\">\n",
              "    <path d=\"M0 0h24v24H0V0z\" fill=\"none\"/>\n",
              "    <path d=\"M18.56 5.44l.94 2.06.94-2.06 2.06-.94-2.06-.94-.94-2.06-.94 2.06-2.06.94zm-11 1L8.5 8.5l.94-2.06 2.06-.94-2.06-.94L8.5 2.5l-.94 2.06-2.06.94zm10 10l.94 2.06.94-2.06 2.06-.94-2.06-.94-.94-2.06-.94 2.06-2.06.94z\"/><path d=\"M17.41 7.96l-1.37-1.37c-.4-.4-.92-.59-1.43-.59-.52 0-1.04.2-1.43.59L10.3 9.45l-7.72 7.72c-.78.78-.78 2.05 0 2.83L4 21.41c.39.39.9.59 1.41.59.51 0 1.02-.2 1.41-.59l7.78-7.78 2.81-2.81c.8-.78.8-2.07 0-2.86zM5.41 20L4 18.59l7.72-7.72 1.47 1.35L5.41 20z\"/>\n",
              "  </svg>\n",
              "      </button>\n",
              "      \n",
              "  <style>\n",
              "    .colab-df-container {\n",
              "      display:flex;\n",
              "      flex-wrap:wrap;\n",
              "      gap: 12px;\n",
              "    }\n",
              "\n",
              "    .colab-df-convert {\n",
              "      background-color: #E8F0FE;\n",
              "      border: none;\n",
              "      border-radius: 50%;\n",
              "      cursor: pointer;\n",
              "      display: none;\n",
              "      fill: #1967D2;\n",
              "      height: 32px;\n",
              "      padding: 0 0 0 0;\n",
              "      width: 32px;\n",
              "    }\n",
              "\n",
              "    .colab-df-convert:hover {\n",
              "      background-color: #E2EBFA;\n",
              "      box-shadow: 0px 1px 2px rgba(60, 64, 67, 0.3), 0px 1px 3px 1px rgba(60, 64, 67, 0.15);\n",
              "      fill: #174EA6;\n",
              "    }\n",
              "\n",
              "    [theme=dark] .colab-df-convert {\n",
              "      background-color: #3B4455;\n",
              "      fill: #D2E3FC;\n",
              "    }\n",
              "\n",
              "    [theme=dark] .colab-df-convert:hover {\n",
              "      background-color: #434B5C;\n",
              "      box-shadow: 0px 1px 3px 1px rgba(0, 0, 0, 0.15);\n",
              "      filter: drop-shadow(0px 1px 2px rgba(0, 0, 0, 0.3));\n",
              "      fill: #FFFFFF;\n",
              "    }\n",
              "  </style>\n",
              "\n",
              "      <script>\n",
              "        const buttonEl =\n",
              "          document.querySelector('#df-38d48b73-9f13-495c-a0d6-a5904d63ad0c button.colab-df-convert');\n",
              "        buttonEl.style.display =\n",
              "          google.colab.kernel.accessAllowed ? 'block' : 'none';\n",
              "\n",
              "        async function convertToInteractive(key) {\n",
              "          const element = document.querySelector('#df-38d48b73-9f13-495c-a0d6-a5904d63ad0c');\n",
              "          const dataTable =\n",
              "            await google.colab.kernel.invokeFunction('convertToInteractive',\n",
              "                                                     [key], {});\n",
              "          if (!dataTable) return;\n",
              "\n",
              "          const docLinkHtml = 'Like what you see? Visit the ' +\n",
              "            '<a target=\"_blank\" href=https://colab.research.google.com/notebooks/data_table.ipynb>data table notebook</a>'\n",
              "            + ' to learn more about interactive tables.';\n",
              "          element.innerHTML = '';\n",
              "          dataTable['output_type'] = 'display_data';\n",
              "          await google.colab.output.renderOutput(dataTable, element);\n",
              "          const docLink = document.createElement('div');\n",
              "          docLink.innerHTML = docLinkHtml;\n",
              "          element.appendChild(docLink);\n",
              "        }\n",
              "      </script>\n",
              "    </div>\n",
              "  </div>\n",
              "  "
            ]
          },
          "metadata": {},
          "execution_count": 307
        }
      ]
    },
    {
      "cell_type": "code",
      "source": [
        "# check the best estimator for XGB model\n",
        "random_search.best_estimator_"
      ],
      "metadata": {
        "colab": {
          "base_uri": "https://localhost:8080/"
        },
        "outputId": "ecde0b4d-7846-4c15-e1f3-7ef71956896e",
        "id": "6E6Bk7WSRkg_"
      },
      "execution_count": 308,
      "outputs": [
        {
          "output_type": "execute_result",
          "data": {
            "text/plain": [
              "XGBClassifier(min_child_weight=3, n_estimators=1000, random_state=1000)"
            ]
          },
          "metadata": {},
          "execution_count": 308
        }
      ]
    },
    {
      "cell_type": "code",
      "source": [
        "# assign the best estimator to new variable\n",
        "xgb_best_rs = random_search.best_estimator_"
      ],
      "metadata": {
        "id": "FJq2var2RkhA"
      },
      "execution_count": 309,
      "outputs": []
    },
    {
      "cell_type": "code",
      "source": [
        "# generate hard result from XGBoost model using test data\n",
        "xgb_best_rs_result = xgb_best_rs.predict(X_test)\n",
        "\n",
        "# generate probability result from XGBoost model using test data\n",
        "xgb_best_rs_proba = xgb_best_rs.predict_proba(X_test)"
      ],
      "metadata": {
        "id": "XhxiLiWMRkhA"
      },
      "execution_count": 310,
      "outputs": []
    },
    {
      "cell_type": "code",
      "source": [
        "# check confusion matrix using XGBoost model\n",
        "skplt.metrics.plot_confusion_matrix(y_test, xgb_best_rs_result, figsize=(5,5))"
      ],
      "metadata": {
        "colab": {
          "base_uri": "https://localhost:8080/",
          "height": 326
        },
        "outputId": "33e4459c-c59e-4e6b-ef60-cae755c43be1",
        "id": "EUWHwW3lRkhA"
      },
      "execution_count": 311,
      "outputs": [
        {
          "output_type": "execute_result",
          "data": {
            "text/plain": [
              "<matplotlib.axes._subplots.AxesSubplot at 0x7f8b97228250>"
            ]
          },
          "metadata": {},
          "execution_count": 311
        },
        {
          "output_type": "display_data",
          "data": {
            "text/plain": [
              "<Figure size 360x360 with 2 Axes>"
            ],
            "image/png": "[encoded data removed]"
          },
          "metadata": {
            "needs_background": "light"
          }
        }
      ]
    },
    {
      "cell_type": "code",
      "source": [
        "# check classification report using XGBoost model\n",
        "pd.DataFrame(metrics.classification_report(y_test, xgb_best_rs_result, target_names = ['NotBuy', 'Buy'], output_dict=True))"
      ],
      "metadata": {
        "colab": {
          "base_uri": "https://localhost:8080/",
          "height": 175
        },
        "outputId": "f9b47eec-4fa7-4285-9bd4-e5676d9fc455",
        "id": "bE_ZxmjvRkhA"
      },
      "execution_count": 312,
      "outputs": [
        {
          "output_type": "execute_result",
          "data": {
            "text/plain": [
              "               NotBuy         Buy  accuracy   macro avg  weighted avg\n",
              "precision    0.823920    0.917526  0.846734    0.870723      0.857317\n",
              "recall       0.968750    0.626761  0.846734    0.797755      0.846734\n",
              "f1-score     0.890485    0.744770  0.846734    0.817627      0.838496\n",
              "support    256.000000  142.000000  0.846734  398.000000    398.000000"
            ],
            "text/html": [
              "\n",
              "  <div id=\"df-20fbbd88-0a16-4783-a28d-0b8baca38e2b\">\n",
              "    <div class=\"colab-df-container\">\n",
              "      <div>\n",
              "<style scoped>\n",
              "    .dataframe tbody tr th:only-of-type {\n",
              "        vertical-align: middle;\n",
              "    }\n",
              "\n",
              "    .dataframe tbody tr th {\n",
              "        vertical-align: top;\n",
              "    }\n",
              "\n",
              "    .dataframe thead th {\n",
              "        text-align: right;\n",
              "    }\n",
              "</style>\n",
              "<table border=\"1\" class=\"dataframe\">\n",
              "  <thead>\n",
              "    <tr style=\"text-align: right;\">\n",
              "      <th></th>\n",
              "      <th>NotBuy</th>\n",
              "      <th>Buy</th>\n",
              "      <th>accuracy</th>\n",
              "      <th>macro avg</th>\n",
              "      <th>weighted avg</th>\n",
              "    </tr>\n",
              "  </thead>\n",
              "  <tbody>\n",
              "    <tr>\n",
              "      <th>precision</th>\n",
              "      <td>0.823920</td>\n",
              "      <td>0.917526</td>\n",
              "      <td>0.846734</td>\n",
              "      <td>0.870723</td>\n",
              "      <td>0.857317</td>\n",
              "    </tr>\n",
              "    <tr>\n",
              "      <th>recall</th>\n",
              "      <td>0.968750</td>\n",
              "      <td>0.626761</td>\n",
              "      <td>0.846734</td>\n",
              "      <td>0.797755</td>\n",
              "      <td>0.846734</td>\n",
              "    </tr>\n",
              "    <tr>\n",
              "      <th>f1-score</th>\n",
              "      <td>0.890485</td>\n",
              "      <td>0.744770</td>\n",
              "      <td>0.846734</td>\n",
              "      <td>0.817627</td>\n",
              "      <td>0.838496</td>\n",
              "    </tr>\n",
              "    <tr>\n",
              "      <th>support</th>\n",
              "      <td>256.000000</td>\n",
              "      <td>142.000000</td>\n",
              "      <td>0.846734</td>\n",
              "      <td>398.000000</td>\n",
              "      <td>398.000000</td>\n",
              "    </tr>\n",
              "  </tbody>\n",
              "</table>\n",
              "</div>\n",
              "      <button class=\"colab-df-convert\" onclick=\"convertToInteractive('df-20fbbd88-0a16-4783-a28d-0b8baca38e2b')\"\n",
              "              title=\"Convert this dataframe to an interactive table.\"\n",
              "              style=\"display:none;\">\n",
              "        \n",
              "  <svg xmlns=\"http://www.w3.org/2000/svg\" height=\"24px\"viewBox=\"0 0 24 24\"\n",
              "       width=\"24px\">\n",
              "    <path d=\"M0 0h24v24H0V0z\" fill=\"none\"/>\n",
              "    <path d=\"M18.56 5.44l.94 2.06.94-2.06 2.06-.94-2.06-.94-.94-2.06-.94 2.06-2.06.94zm-11 1L8.5 8.5l.94-2.06 2.06-.94-2.06-.94L8.5 2.5l-.94 2.06-2.06.94zm10 10l.94 2.06.94-2.06 2.06-.94-2.06-.94-.94-2.06-.94 2.06-2.06.94z\"/><path d=\"M17.41 7.96l-1.37-1.37c-.4-.4-.92-.59-1.43-.59-.52 0-1.04.2-1.43.59L10.3 9.45l-7.72 7.72c-.78.78-.78 2.05 0 2.83L4 21.41c.39.39.9.59 1.41.59.51 0 1.02-.2 1.41-.59l7.78-7.78 2.81-2.81c.8-.78.8-2.07 0-2.86zM5.41 20L4 18.59l7.72-7.72 1.47 1.35L5.41 20z\"/>\n",
              "  </svg>\n",
              "      </button>\n",
              "      \n",
              "  <style>\n",
              "    .colab-df-container {\n",
              "      display:flex;\n",
              "      flex-wrap:wrap;\n",
              "      gap: 12px;\n",
              "    }\n",
              "\n",
              "    .colab-df-convert {\n",
              "      background-color: #E8F0FE;\n",
              "      border: none;\n",
              "      border-radius: 50%;\n",
              "      cursor: pointer;\n",
              "      display: none;\n",
              "      fill: #1967D2;\n",
              "      height: 32px;\n",
              "      padding: 0 0 0 0;\n",
              "      width: 32px;\n",
              "    }\n",
              "\n",
              "    .colab-df-convert:hover {\n",
              "      background-color: #E2EBFA;\n",
              "      box-shadow: 0px 1px 2px rgba(60, 64, 67, 0.3), 0px 1px 3px 1px rgba(60, 64, 67, 0.15);\n",
              "      fill: #174EA6;\n",
              "    }\n",
              "\n",
              "    [theme=dark] .colab-df-convert {\n",
              "      background-color: #3B4455;\n",
              "      fill: #D2E3FC;\n",
              "    }\n",
              "\n",
              "    [theme=dark] .colab-df-convert:hover {\n",
              "      background-color: #434B5C;\n",
              "      box-shadow: 0px 1px 3px 1px rgba(0, 0, 0, 0.15);\n",
              "      filter: drop-shadow(0px 1px 2px rgba(0, 0, 0, 0.3));\n",
              "      fill: #FFFFFF;\n",
              "    }\n",
              "  </style>\n",
              "\n",
              "      <script>\n",
              "        const buttonEl =\n",
              "          document.querySelector('#df-20fbbd88-0a16-4783-a28d-0b8baca38e2b button.colab-df-convert');\n",
              "        buttonEl.style.display =\n",
              "          google.colab.kernel.accessAllowed ? 'block' : 'none';\n",
              "\n",
              "        async function convertToInteractive(key) {\n",
              "          const element = document.querySelector('#df-20fbbd88-0a16-4783-a28d-0b8baca38e2b');\n",
              "          const dataTable =\n",
              "            await google.colab.kernel.invokeFunction('convertToInteractive',\n",
              "                                                     [key], {});\n",
              "          if (!dataTable) return;\n",
              "\n",
              "          const docLinkHtml = 'Like what you see? Visit the ' +\n",
              "            '<a target=\"_blank\" href=https://colab.research.google.com/notebooks/data_table.ipynb>data table notebook</a>'\n",
              "            + ' to learn more about interactive tables.';\n",
              "          element.innerHTML = '';\n",
              "          dataTable['output_type'] = 'display_data';\n",
              "          await google.colab.output.renderOutput(dataTable, element);\n",
              "          const docLink = document.createElement('div');\n",
              "          docLink.innerHTML = docLinkHtml;\n",
              "          element.appendChild(docLink);\n",
              "        }\n",
              "      </script>\n",
              "    </div>\n",
              "  </div>\n",
              "  "
            ]
          },
          "metadata": {},
          "execution_count": 312
        }
      ]
    },
    {
      "cell_type": "code",
      "source": [
        "# check ROC curve using XGBoost model\n",
        "skplt.metrics.plot_roc_curve(y_test, xgb_best_rs_proba, figsize=(5,5))"
      ],
      "metadata": {
        "colab": {
          "base_uri": "https://localhost:8080/",
          "height": 422
        },
        "outputId": "255b680d-b320-4cbe-ac0d-2c9a4ba41d21",
        "id": "-QkwrHrMRkhA"
      },
      "execution_count": 313,
      "outputs": [
        {
          "output_type": "stream",
          "name": "stderr",
          "text": [
            "/usr/local/lib/python3.8/dist-packages/sklearn/utils/deprecation.py:87: FutureWarning: Function plot_roc_curve is deprecated; This will be removed in v0.5.0. Please use scikitplot.metrics.plot_roc instead.\n",
            "  warnings.warn(msg, category=FutureWarning)\n"
          ]
        },
        {
          "output_type": "execute_result",
          "data": {
            "text/plain": [
              "<matplotlib.axes._subplots.AxesSubplot at 0x7f8b97481b80>"
            ]
          },
          "metadata": {},
          "execution_count": 313
        },
        {
          "output_type": "display_data",
          "data": {
            "text/plain": [
              "<Figure size 360x360 with 1 Axes>"
            ],
            "image/png": "[encoded data removed]"
          },
          "metadata": {
            "needs_background": "light"
          }
        }
      ]
    },
    {
      "cell_type": "markdown",
      "source": [
        "By implementing cross validation and hyperparameter tuning method, we improve the true predicted value from 87 to 89. We also improve the F1 score on class 1 from 69.9% to 74.4%. The ROC curve of class 1 also improves from 81% to 82%. However, there is still imbalance in the model as the F1 score on class 0 is 0.89 and F1 score on class 1 is 0.744. "
      ],
      "metadata": {
        "id": "Vz-jGKB2a26y"
      }
    },
    {
      "cell_type": "markdown",
      "source": [
        "# Imbalanced Dataset"
      ],
      "metadata": {
        "id": "7csJFtHDnjfk"
      }
    },
    {
      "cell_type": "markdown",
      "source": [
        "Undersampling method is done to balance the F1 score between class 0 and class 1. The model result will then be used to predict customers who will buy the travel insurance package."
      ],
      "metadata": {
        "id": "2c26IMOUfODe"
      }
    },
    {
      "cell_type": "code",
      "source": [
        "from imblearn.under_sampling import RandomUnderSampler\n",
        "\n",
        "# define the undersampling method\n",
        "rus = RandomUnderSampler(random_state=0)\n",
        "rus.fit(X,y)\n",
        "\n",
        "# transform the dataset\n",
        "X_resampled, y_resampled = rus.fit_resample(X, y)\n",
        "X_resampled = pd.DataFrame(X_resampled,columns = X.columns)"
      ],
      "metadata": {
        "id": "rll8P2_wIi7G"
      },
      "execution_count": 314,
      "outputs": []
    },
    {
      "cell_type": "code",
      "source": [
        "# train test split\n",
        "X_train_resampled, X_test_resampled, y_train_resampled, y_test_resampled = train_test_split(X_resampled, y_resampled, test_size=0.2, random_state=1000)"
      ],
      "metadata": {
        "id": "DwCddD97Mnhr"
      },
      "execution_count": 315,
      "outputs": []
    },
    {
      "cell_type": "code",
      "source": [
        "# generate dummy variables for the categorical variables\n",
        "X_train_resampled = pd.get_dummies(X_train_resampled, drop_first = True)\n",
        "X_test_resampled = pd.get_dummies(X_test_resampled, drop_first = True)"
      ],
      "metadata": {
        "id": "kLqa8QOaNH8f"
      },
      "execution_count": 316,
      "outputs": []
    },
    {
      "cell_type": "code",
      "source": [
        "# define XGBoost model with best estimator\n",
        "xgb_model = XGBClassifier(min_child_weight=3, n_estimators=1000, random_state=1000)\n",
        "\n",
        "# fit XGBoost model with resampled train data\n",
        "xgb_model.fit(X_train_resampled, y_train_resampled)"
      ],
      "metadata": {
        "colab": {
          "base_uri": "https://localhost:8080/"
        },
        "id": "msd_UVNY0a-u",
        "outputId": "1ec5e248-1f53-4165-9efd-475b3cb41e2e"
      },
      "execution_count": 317,
      "outputs": [
        {
          "output_type": "execute_result",
          "data": {
            "text/plain": [
              "XGBClassifier(min_child_weight=3, n_estimators=1000, random_state=1000)"
            ]
          },
          "metadata": {},
          "execution_count": 317
        }
      ]
    },
    {
      "cell_type": "code",
      "source": [
        "# generate hard result from XGBoost model using resampled test data\n",
        "xgb_result = xgb_model.predict(X_test_resampled)\n",
        "\n",
        "# generate probability result from XGBoost model using  resampled test data\n",
        "xgb_proba = xgb_model.predict_proba(X_test_resampled)"
      ],
      "metadata": {
        "id": "noho5RY1NA15"
      },
      "execution_count": 318,
      "outputs": []
    },
    {
      "cell_type": "code",
      "source": [
        "# check confusion matrix using XGBoost model\n",
        "skplt.metrics.plot_confusion_matrix(y_test_resampled, xgb_result, figsize=(5,5))"
      ],
      "metadata": {
        "colab": {
          "base_uri": "https://localhost:8080/",
          "height": 326
        },
        "id": "U6bNefYGNgz7",
        "outputId": "51cc49a2-f1f3-481c-d270-ac185d94b4c2"
      },
      "execution_count": 319,
      "outputs": [
        {
          "output_type": "execute_result",
          "data": {
            "text/plain": [
              "<matplotlib.axes._subplots.AxesSubplot at 0x7f8b96114490>"
            ]
          },
          "metadata": {},
          "execution_count": 319
        },
        {
          "output_type": "display_data",
          "data": {
            "text/plain": [
              "<Figure size 360x360 with 2 Axes>"
            ],
            "image/png": "[encoded data removed]"
          },
          "metadata": {
            "needs_background": "light"
          }
        }
      ]
    },
    {
      "cell_type": "code",
      "source": [
        "# check classification report using XGBoost model\n",
        "pd.DataFrame(metrics.classification_report(y_test_resampled, xgb_result, target_names = ['NotBuy', 'Buy'], output_dict=True))"
      ],
      "metadata": {
        "colab": {
          "base_uri": "https://localhost:8080/",
          "height": 175
        },
        "id": "0BS1QFWMNn3a",
        "outputId": "6ec2601a-16a1-448c-f40c-57097b557835"
      },
      "execution_count": 320,
      "outputs": [
        {
          "output_type": "execute_result",
          "data": {
            "text/plain": [
              "               NotBuy         Buy  accuracy   macro avg  weighted avg\n",
              "precision    0.721212    0.890756  0.792254    0.805984      0.811954\n",
              "recall       0.901515    0.697368  0.792254    0.799442      0.792254\n",
              "f1-score     0.801347    0.782288  0.792254    0.791817      0.791146\n",
              "support    132.000000  152.000000  0.792254  284.000000    284.000000"
            ],
            "text/html": [
              "\n",
              "  <div id=\"df-ce701b92-15e6-403e-8f9f-7a8e5fe319d3\">\n",
              "    <div class=\"colab-df-container\">\n",
              "      <div>\n",
              "<style scoped>\n",
              "    .dataframe tbody tr th:only-of-type {\n",
              "        vertical-align: middle;\n",
              "    }\n",
              "\n",
              "    .dataframe tbody tr th {\n",
              "        vertical-align: top;\n",
              "    }\n",
              "\n",
              "    .dataframe thead th {\n",
              "        text-align: right;\n",
              "    }\n",
              "</style>\n",
              "<table border=\"1\" class=\"dataframe\">\n",
              "  <thead>\n",
              "    <tr style=\"text-align: right;\">\n",
              "      <th></th>\n",
              "      <th>NotBuy</th>\n",
              "      <th>Buy</th>\n",
              "      <th>accuracy</th>\n",
              "      <th>macro avg</th>\n",
              "      <th>weighted avg</th>\n",
              "    </tr>\n",
              "  </thead>\n",
              "  <tbody>\n",
              "    <tr>\n",
              "      <th>precision</th>\n",
              "      <td>0.721212</td>\n",
              "      <td>0.890756</td>\n",
              "      <td>0.792254</td>\n",
              "      <td>0.805984</td>\n",
              "      <td>0.811954</td>\n",
              "    </tr>\n",
              "    <tr>\n",
              "      <th>recall</th>\n",
              "      <td>0.901515</td>\n",
              "      <td>0.697368</td>\n",
              "      <td>0.792254</td>\n",
              "      <td>0.799442</td>\n",
              "      <td>0.792254</td>\n",
              "    </tr>\n",
              "    <tr>\n",
              "      <th>f1-score</th>\n",
              "      <td>0.801347</td>\n",
              "      <td>0.782288</td>\n",
              "      <td>0.792254</td>\n",
              "      <td>0.791817</td>\n",
              "      <td>0.791146</td>\n",
              "    </tr>\n",
              "    <tr>\n",
              "      <th>support</th>\n",
              "      <td>132.000000</td>\n",
              "      <td>152.000000</td>\n",
              "      <td>0.792254</td>\n",
              "      <td>284.000000</td>\n",
              "      <td>284.000000</td>\n",
              "    </tr>\n",
              "  </tbody>\n",
              "</table>\n",
              "</div>\n",
              "      <button class=\"colab-df-convert\" onclick=\"convertToInteractive('df-ce701b92-15e6-403e-8f9f-7a8e5fe319d3')\"\n",
              "              title=\"Convert this dataframe to an interactive table.\"\n",
              "              style=\"display:none;\">\n",
              "        \n",
              "  <svg xmlns=\"http://www.w3.org/2000/svg\" height=\"24px\"viewBox=\"0 0 24 24\"\n",
              "       width=\"24px\">\n",
              "    <path d=\"M0 0h24v24H0V0z\" fill=\"none\"/>\n",
              "    <path d=\"M18.56 5.44l.94 2.06.94-2.06 2.06-.94-2.06-.94-.94-2.06-.94 2.06-2.06.94zm-11 1L8.5 8.5l.94-2.06 2.06-.94-2.06-.94L8.5 2.5l-.94 2.06-2.06.94zm10 10l.94 2.06.94-2.06 2.06-.94-2.06-.94-.94-2.06-.94 2.06-2.06.94z\"/><path d=\"M17.41 7.96l-1.37-1.37c-.4-.4-.92-.59-1.43-.59-.52 0-1.04.2-1.43.59L10.3 9.45l-7.72 7.72c-.78.78-.78 2.05 0 2.83L4 21.41c.39.39.9.59 1.41.59.51 0 1.02-.2 1.41-.59l7.78-7.78 2.81-2.81c.8-.78.8-2.07 0-2.86zM5.41 20L4 18.59l7.72-7.72 1.47 1.35L5.41 20z\"/>\n",
              "  </svg>\n",
              "      </button>\n",
              "      \n",
              "  <style>\n",
              "    .colab-df-container {\n",
              "      display:flex;\n",
              "      flex-wrap:wrap;\n",
              "      gap: 12px;\n",
              "    }\n",
              "\n",
              "    .colab-df-convert {\n",
              "      background-color: #E8F0FE;\n",
              "      border: none;\n",
              "      border-radius: 50%;\n",
              "      cursor: pointer;\n",
              "      display: none;\n",
              "      fill: #1967D2;\n",
              "      height: 32px;\n",
              "      padding: 0 0 0 0;\n",
              "      width: 32px;\n",
              "    }\n",
              "\n",
              "    .colab-df-convert:hover {\n",
              "      background-color: #E2EBFA;\n",
              "      box-shadow: 0px 1px 2px rgba(60, 64, 67, 0.3), 0px 1px 3px 1px rgba(60, 64, 67, 0.15);\n",
              "      fill: #174EA6;\n",
              "    }\n",
              "\n",
              "    [theme=dark] .colab-df-convert {\n",
              "      background-color: #3B4455;\n",
              "      fill: #D2E3FC;\n",
              "    }\n",
              "\n",
              "    [theme=dark] .colab-df-convert:hover {\n",
              "      background-color: #434B5C;\n",
              "      box-shadow: 0px 1px 3px 1px rgba(0, 0, 0, 0.15);\n",
              "      filter: drop-shadow(0px 1px 2px rgba(0, 0, 0, 0.3));\n",
              "      fill: #FFFFFF;\n",
              "    }\n",
              "  </style>\n",
              "\n",
              "      <script>\n",
              "        const buttonEl =\n",
              "          document.querySelector('#df-ce701b92-15e6-403e-8f9f-7a8e5fe319d3 button.colab-df-convert');\n",
              "        buttonEl.style.display =\n",
              "          google.colab.kernel.accessAllowed ? 'block' : 'none';\n",
              "\n",
              "        async function convertToInteractive(key) {\n",
              "          const element = document.querySelector('#df-ce701b92-15e6-403e-8f9f-7a8e5fe319d3');\n",
              "          const dataTable =\n",
              "            await google.colab.kernel.invokeFunction('convertToInteractive',\n",
              "                                                     [key], {});\n",
              "          if (!dataTable) return;\n",
              "\n",
              "          const docLinkHtml = 'Like what you see? Visit the ' +\n",
              "            '<a target=\"_blank\" href=https://colab.research.google.com/notebooks/data_table.ipynb>data table notebook</a>'\n",
              "            + ' to learn more about interactive tables.';\n",
              "          element.innerHTML = '';\n",
              "          dataTable['output_type'] = 'display_data';\n",
              "          await google.colab.output.renderOutput(dataTable, element);\n",
              "          const docLink = document.createElement('div');\n",
              "          docLink.innerHTML = docLinkHtml;\n",
              "          element.appendChild(docLink);\n",
              "        }\n",
              "      </script>\n",
              "    </div>\n",
              "  </div>\n",
              "  "
            ]
          },
          "metadata": {},
          "execution_count": 320
        }
      ]
    },
    {
      "cell_type": "code",
      "source": [
        "# check ROC curve using XGBoost model\n",
        "skplt.metrics.plot_roc_curve(y_test_resampled, xgb_proba, figsize=(5,5))"
      ],
      "metadata": {
        "colab": {
          "base_uri": "https://localhost:8080/",
          "height": 422
        },
        "id": "tUfEY0PH1pmM",
        "outputId": "7316c4de-953e-4fc7-9098-bb4afc60f41d"
      },
      "execution_count": 321,
      "outputs": [
        {
          "output_type": "stream",
          "name": "stderr",
          "text": [
            "/usr/local/lib/python3.8/dist-packages/sklearn/utils/deprecation.py:87: FutureWarning: Function plot_roc_curve is deprecated; This will be removed in v0.5.0. Please use scikitplot.metrics.plot_roc instead.\n",
            "  warnings.warn(msg, category=FutureWarning)\n"
          ]
        },
        {
          "output_type": "execute_result",
          "data": {
            "text/plain": [
              "<matplotlib.axes._subplots.AxesSubplot at 0x7f8b96087d00>"
            ]
          },
          "metadata": {},
          "execution_count": 321
        },
        {
          "output_type": "display_data",
          "data": {
            "text/plain": [
              "<Figure size 360x360 with 1 Axes>"
            ],
            "image/png": "[encoded data removed]"
          },
          "metadata": {
            "needs_background": "light"
          }
        }
      ]
    },
    {
      "cell_type": "markdown",
      "source": [
        "Now the model gets better to predict customers who will buy the travel insurance package. By implementing undersampling method, we improve the true predicted value from 89 to 106. We also improve the F1 score on class 1 from 74.4% to 78.2%. The ROC curve of class 1 also improves from 82% to 86%. Further analysis of hyperparameter tuning and imbalanced model can be done to get the best model to know the customers insurance package prediction."
      ],
      "metadata": {
        "id": "XIIT9Fq51wIY"
      }
    },
    {
      "cell_type": "markdown",
      "source": [
        "# Business Simulation: Travel Insurance Package Offering"
      ],
      "metadata": {
        "id": "Ri8IntXwhtB4"
      }
    },
    {
      "cell_type": "markdown",
      "source": [
        "XGBoost machine learning model is used to predict the customers that will buy the travel insurance package so that the insurance package can be offered to the right customers to minimize the cost. Now, we will make business simulation to compare the cost profit analysis without machine learning model and with machine learning model. Let's say that there is a ads feature to show the travel insurance package to the targeted customers. \n",
        "\n",
        "Below are the assumptions used in this business simulation:\n",
        "1. The ads feature costs 5 USD per customer\n",
        "\n",
        "2. Average travel ticket costs about 300 USD with its travel insurance package costs 20 USD per ticket\n",
        "3. The ads performance for each customer is the same\n",
        "4. Cost calculation is only generated from the ads feature and revenue calculation is only generated from the travel insurance package"
      ],
      "metadata": {
        "id": "2Q-ckZOmhx2x"
      }
    },
    {
      "cell_type": "markdown",
      "source": [
        "## No Model Performance"
      ],
      "metadata": {
        "id": "KD4Fc4SHYQkR"
      }
    },
    {
      "cell_type": "markdown",
      "source": [
        "These are the conditions:\n",
        "1. Total customers are 284 people\n",
        "2. Total customers who buy the insurance package are 152 people\n",
        "3. Total customers who don't buy the travel insurance package are 132 people"
      ],
      "metadata": {
        "id": "Y8gkEfJnYt4s"
      }
    },
    {
      "cell_type": "markdown",
      "source": [
        "Cost Profit Analysis\n",
        "1. Cost: 284 x 5 USD = 1420 USD\n",
        "2. Revenue: 152 x 20 USD = 3040 USD\n",
        "3. Profit: 1620 USD\n",
        "4. ROI: 1620/1420 = 114%"
      ],
      "metadata": {
        "id": "ohE4XSHHZ7_N"
      }
    },
    {
      "cell_type": "markdown",
      "source": [
        "## Machine Learning Model Performance"
      ],
      "metadata": {
        "id": "OjaOBec1YcEt"
      }
    },
    {
      "cell_type": "markdown",
      "source": [
        "These are the conditions:\n",
        "1. Total customers are 119 people\n",
        "2. Total customers who buy the insurance package are 106 people\n",
        "3. Total customers who don't buy the travel insurance package are 13 people"
      ],
      "metadata": {
        "id": "71YiTWzKbV46"
      }
    },
    {
      "cell_type": "markdown",
      "source": [
        "Cost Profit Analysis\n",
        "1. Cost: 119 x 5 USD = 595 USD\n",
        "2. Revenue: 106 x 20 USD = 2120 USD\n",
        "3. Profit: 1525 USD\n",
        "4. ROI: 1525/595 = 256%"
      ],
      "metadata": {
        "id": "bYe7LTcJb10A"
      }
    },
    {
      "cell_type": "markdown",
      "source": [
        "# Conclusion"
      ],
      "metadata": {
        "id": "BZwFV7qGccrd"
      }
    },
    {
      "cell_type": "markdown",
      "source": [
        "The main factors that contribute to the customers behavior of buying the travel insurance package are ever travelled abroad, annual income and frequent flyer respectively. This analysis uses XGBoost model to predict customers that will buy the travel insurance package. The model accuracy is 89% by confusion matrix, 79.2% by F1 score and 86% by ROC score. By using this machine learning model, we can increase the ROI from 114% to 256%."
      ],
      "metadata": {
        "id": "rT2AopU7cfjy"
      }
    }
  ]
}